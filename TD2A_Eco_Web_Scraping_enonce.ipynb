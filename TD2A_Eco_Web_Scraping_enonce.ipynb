{
 "cells": [
  {
   "cell_type": "markdown",
   "metadata": {},
   "source": [
    "# Web-Scraping\n",
    "\n",
    "Sous ce nom se cache une pratique très utile pour toute personne souhaitant travailler sur des informations disponibles en ligne, mais n'existant pas forcément sous la forme d'un tableau Excel... Bref, il s'agit de récupérer des informations depuis Internet."
   ]
  },
  {
   "cell_type": "markdown",
   "metadata": {},
   "source": [
    "Le webscraping est une technique d'extraction du contenu des sites internet, via un programme informatique : nous allons aujourd'hui vous présenter comme créer et exécuter ces robots afin de recupérer rapidement des informations utiles à vos projets actuels ou futurs."
   ]
  },
  {
   "cell_type": "code",
   "execution_count": null,
   "metadata": {},
   "outputs": [
    {
     "data": {
      "text/html": [
       "<div id=\"my_id_menu_nb\">run previous cell, wait for 2 seconds</div>\n",
       "<script>\n",
       "function repeat_indent_string(n){\n",
       "    var a = \"\" ;\n",
       "    for ( ; n > 0 ; --n)\n",
       "        a += \"    \";\n",
       "    return a;\n",
       "}\n",
       "var update_menu_string = function(begin, lfirst, llast, sformat, send, keep_item, begin_format, end_format) {\n",
       "    var anchors = document.getElementsByClassName(\"section\");\n",
       "    if (anchors.length == 0) {\n",
       "        anchors = document.getElementsByClassName(\"text_cell_render rendered_html\");\n",
       "    }\n",
       "    var i,t;\n",
       "    var text_menu = begin;\n",
       "    var text_memo = \"<pre>\\nlength:\" + anchors.length + \"\\n\";\n",
       "    var ind = \"\";\n",
       "    var memo_level = 1;\n",
       "    var href;\n",
       "    var tags = [];\n",
       "    var main_item = 0;\n",
       "    var format_open = 0;\n",
       "    for (i = 0; i <= llast; i++)\n",
       "        tags.push(\"h\" + i);\n",
       "\n",
       "    for (i = 0; i < anchors.length; i++) {\n",
       "        text_memo += \"**\" + anchors[i].id + \"--\\n\";\n",
       "\n",
       "        var child = null;\n",
       "        for(t = 0; t < tags.length; t++) {\n",
       "            var r = anchors[i].getElementsByTagName(tags[t]);\n",
       "            if (r.length > 0) {\n",
       "child = r[0];\n",
       "break;\n",
       "            }\n",
       "        }\n",
       "        if (child == null) {\n",
       "            text_memo += \"null\\n\";\n",
       "            continue;\n",
       "        }\n",
       "        if (anchors[i].hasAttribute(\"id\")) {\n",
       "            // when converted in RST\n",
       "            href = anchors[i].id;\n",
       "            text_memo += \"#1-\" + href;\n",
       "            // passer à child suivant (le chercher)\n",
       "        }\n",
       "        else if (child.hasAttribute(\"id\")) {\n",
       "            // in a notebook\n",
       "            href = child.id;\n",
       "            text_memo += \"#2-\" + href;\n",
       "        }\n",
       "        else {\n",
       "            text_memo += \"#3-\" + \"*\" + \"\\n\";\n",
       "            continue;\n",
       "        }\n",
       "        var title = child.textContent;\n",
       "        var level = parseInt(child.tagName.substring(1,2));\n",
       "\n",
       "        text_memo += \"--\" + level + \"?\" + lfirst + \"--\" + title + \"\\n\";\n",
       "\n",
       "        if ((level < lfirst) || (level > llast)) {\n",
       "            continue ;\n",
       "        }\n",
       "        if (title.endsWith('¶')) {\n",
       "            title = title.substring(0,title.length-1).replace(\"<\", \"&lt;\")\n",
       "         .replace(\">\", \"&gt;\").replace(\"&\", \"&amp;\");\n",
       "        }\n",
       "        if (title.length == 0) {\n",
       "            continue;\n",
       "        }\n",
       "\n",
       "        while (level < memo_level) {\n",
       "            text_menu += end_format + \"</ul>\\n\";\n",
       "            format_open -= 1;\n",
       "            memo_level -= 1;\n",
       "        }\n",
       "        if (level == lfirst) {\n",
       "            main_item += 1;\n",
       "        }\n",
       "        if (keep_item != -1 && main_item != keep_item + 1) {\n",
       "            // alert(main_item + \" - \" + level + \" - \" + keep_item);\n",
       "            continue;\n",
       "        }\n",
       "        while (level > memo_level) {\n",
       "            text_menu += \"<ul>\\n\";\n",
       "            memo_level += 1;\n",
       "        }\n",
       "        text_menu += repeat_indent_string(level-2);\n",
       "        text_menu += begin_format + sformat.replace(\"__HREF__\", href).replace(\"__TITLE__\", title);\n",
       "        format_open += 1;\n",
       "    }\n",
       "    while (1 < memo_level) {\n",
       "        text_menu += end_format + \"</ul>\\n\";\n",
       "        memo_level -= 1;\n",
       "        format_open -= 1;\n",
       "    }\n",
       "    text_menu += send;\n",
       "    //text_menu += \"\\n\" + text_memo;\n",
       "\n",
       "    while (format_open > 0) {\n",
       "        text_menu += end_format;\n",
       "        format_open -= 1;\n",
       "    }\n",
       "    return text_menu;\n",
       "};\n",
       "var update_menu = function() {\n",
       "    var sbegin = \"\";\n",
       "    var sformat = '<a href=\"#__HREF__\">__TITLE__</a>';\n",
       "    var send = \"\";\n",
       "    var begin_format = '<li>';\n",
       "    var end_format = '</li>';\n",
       "    var keep_item = -1;\n",
       "    var text_menu = update_menu_string(sbegin, 2, 4, sformat, send, keep_item,\n",
       "       begin_format, end_format);\n",
       "    var menu = document.getElementById(\"my_id_menu_nb\");\n",
       "    menu.innerHTML=text_menu;\n",
       "};\n",
       "window.setTimeout(update_menu,2000);\n",
       "            </script>"
      ],
      "text/plain": [
       "<IPython.core.display.HTML object>"
      ]
     },
     "execution_count": null,
     "metadata": {},
     "output_type": "execute_result"
    }
   ],
   "source": [
    "from jyquickhelper import add_notebook_menu\n",
    "add_notebook_menu()"
   ]
  },
  {
   "cell_type": "markdown",
   "metadata": {},
   "source": [
    "## Un détour par le Web : comment fonctionne un site ?\n",
    "\n",
    "Même si nous n'allons pas aujourd'hui faire un cours de web, il vous faut néanmoins certaines bases pour comprendre comment un site internet fonctionne et comment sont structurées les informations sur une page.\n",
    "\n",
    "\n"
   ]
  },
  {
   "cell_type": "markdown",
   "metadata": {},
   "source": [
    "Un site Web est un ensemble de pages codées en HTML qui permet de décrire à la fois le contenu et la forme d'une page Web.\n",
    "\n",
    "###  HTML \n"
   ]
  },
  {
   "cell_type": "markdown",
   "metadata": {},
   "source": [
    "### Les balises\n",
    "\n",
    "\n",
    "Sur une page web, vous trouverez toujours à coup sûr des éléments comme < head>, < title>, etc. Il  s'agit des codes qui vous permettent de structurer le contenu d'une page HTML et qui s'appellent des balises. \n",
    "\n",
    "Citons, par exemple, les balises < p>, < h1>, < h2>, < h3>, < strong> ou < em>.\n",
    "\n",
    "Le symbole < > est une balise : il sert à indiquer le début d'une partie. Le symbole <\\ > indique la fin de cette partie.\n",
    "\n",
    "La plupart des balises vont par paires, avec une «balise ouvrante» et une «balise fermante». (par exemple < p> et < /p>)."
   ]
  },
  {
   "cell_type": "markdown",
   "metadata": {},
   "source": [
    "#### Exemple : les balise des tableaux\n",
    "\n",
    "$$\n",
    "\\begin{array}{rr} \\hline\n",
    "Balise  & \\text{Description} \\\\ \\hline\n",
    "< table> & \\text{Tableau} \\\\\n",
    "< caption>& \\text{Titre du tableau} \\\\\n",
    "< tr> & \\text{Ligne de tableau} \\\\\n",
    "< th> & \\text{Cellule d'en-tête}\\\\\n",
    "< td> & \\text{Cellule} \\\\\n",
    "< thead> & \\text{Section de l'en-tête du tableau} \\\\\n",
    "< tbody> & \\text{Section du corps du tableau} \\\\\n",
    "< tfoot> & \\text{Section du pied du tableau} \\\\\n",
    "\\end{array}\n",
    "$$"
   ]
  },
  {
   "cell_type": "markdown",
   "metadata": {},
   "source": [
    "##### Application : un tableau en HTML\n",
    "\n",
    "Le code HTML du tableau suivant"
   ]
  },
  {
   "cell_type": "raw",
   "metadata": {},
   "source": [
    "<table>\n",
    "   <tr>\n",
    "      <th>Prénom</th>\n",
    "      <th>Nom</th>\n",
    "      <th>Profession</th>\n",
    "   </tr>\n",
    "   <tr>\n",
    "      <td>Mike</td>\n",
    "      <td>Stuntman</td>\n",
    "      <td>Cascadeur</td>\n",
    "   </tr>\n",
    "   <tr>\n",
    "      <td>Mister</td>\n",
    "      <td>Pink</td>\n",
    "      <td>Gangster</td>\n",
    "   </tr>\n",
    "</table>"
   ]
  },
  {
   "cell_type": "markdown",
   "metadata": {},
   "source": [
    "Donnera dans le navigateur\n",
    "\n",
    "|     Prénom |      Mike |   Mister |\n",
    "|------------|-----------|----------|\n",
    "|        Nom | Stuntman  |     Pink |\n",
    "| Profession | Cascadeur | Gangster |\n"
   ]
  },
  {
   "cell_type": "markdown",
   "metadata": {},
   "source": [
    "#### Parent et enfant\n",
    "\n",
    "Dans le cadre du langage HTML, les termes de parents (parent) et enfants (child) servent à désigner des élements emboîtés les uns dans les autres.\n",
    "\n",
    "Dans la construction suivante, par exemple :"
   ]
  },
  {
   "cell_type": "raw",
   "metadata": {},
   "source": [
    "< div> \n",
    "    < p>\n",
    "       bla,bla\n",
    "    < /p>\n",
    "< /div>"
   ]
  },
  {
   "cell_type": "markdown",
   "metadata": {},
   "source": [
    "On dira que l'élément < div> est le parent de l'élément < p> tandis que l'élément < p> est l'enfant de l'élément < div>."
   ]
  },
  {
   "cell_type": "markdown",
   "metadata": {},
   "source": [
    "----------\n",
    "\n",
    "Mais pourquoi apprendre ça pour scraper me direz-vous ?\n",
    "\n",
    "Pour bien récupérer les informations d'un site internet, il faut pouvoir comprendre sa structure et donc son code HTML. Les fonctions python qui servent au scrapping sont principalement construites pour vous permettre de naviguer entre les balises"
   ]
  },
  {
   "cell_type": "markdown",
   "metadata": {
    "collapsed": true
   },
   "source": [
    "### Optionnel - CSS - le style de la page WEB\n",
    "\n",
    "Quand le bout de code html est écrit, il apaprait sous la forme d'un texte noir sur un fond blanc. Une manière simple de rendre la page plus belle, c'est d'y ajouter de la couleur. \n",
    "\n",
    "La feuille de style qui permet de rendre la page plus belle correspond au(x) fichier(s) CSS. \n",
    "\n",
    "Toutes les pages HTML qui font référence à cette feuille de style externe hériteront de toutes ses définitions.\n",
    "\n",
    "Nous y reviendrons plus en détail dans le TD sur Flask (module Python de création de site internet)."
   ]
  },
  {
   "cell_type": "markdown",
   "metadata": {},
   "source": [
    "## Scrapper avec python\n",
    "\n",
    "Nous allons essentiellement utiliser le package BeautifulSoup4 pour ce cours, mais d'autres packages existent (Selenium, Scrapy...).\n",
    "\n",
    "BeautifulSoup sera suffisant quand vous voudrez travailler sur des pages HTML statiques, dès que les informations que vous recherchez sont générées via l'exécution de scripts Javascipt, il vous faudra passer par des outils comme Selenium.\n",
    "\n",
    "De même, si vous ne connaissez pas l'URL, il faudra passer par un framework comme Scrapy, qui passe facilement d'une page à une autre (\"crawl\"). Scrapy est plus complexe à manipuler que BeautifulSoup : si vous voulez plus de détails, rendez-vous sur la page du tutorial https://doc.scrapy.org/en/latest/intro/tutorial.html."
   ]
  },
  {
   "cell_type": "markdown",
   "metadata": {},
   "source": [
    "### Utiliser BeautifulSoup\n",
    "\n",
    "Les packages pour scrapper des pages HTML : \n",
    "- BeautifulSoup (pip install bs4)\n",
    "- urllib "
   ]
  },
  {
   "cell_type": "code",
   "execution_count": 1,
   "metadata": {
    "collapsed": true
   },
   "outputs": [],
   "source": [
    "import urllib\n",
    "import bs4\n",
    "#help(bs4)"
   ]
  },
  {
   "cell_type": "markdown",
   "metadata": {},
   "source": [
    "##### 1ere page HTML\n",
    "\n",
    "On va commencer facilement, prenons une page wikipedia, par exemple celle de la Ligue 1 de football :\n",
    "\n",
    "https://fr.wikipedia.org/wiki/Championnat_de_France_de_football_2016-2017\n",
    "\n",
    "On va souhaiter récupérer la liste des équipes, ainsi que les url des pages Wikipedia de ces équipes."
   ]
  },
  {
   "cell_type": "code",
   "execution_count": 2,
   "metadata": {},
   "outputs": [
    {
     "name": "stdout",
     "output_type": "stream",
     "text": [
      "b'<!DOCTYPE html>\\n<html class=\"client-nojs\" lang=\"fr\" dir=\"ltr\">\\n<head>\\n<meta charset=\"UTF-8\"/>\\n<title>Championnat de France de football 2016-2017 \\xe2\\x80\\x94 Wikip\\xc3\\xa9dia</title>\\n<script>document.documentElement.className = document.documentElement.className.replace( /(^|\\\\s)client-nojs(\\\\s|$)/, \"$1client-js$2\" );</script>\\n<script>(window.RLQ=window.RLQ||[]).push(function(){mw.config.set({\"wgCanonicalNamespace\":\"\",\"wgCanonicalSpecialPageName\":false,\"wgNamespaceNumber\":0,\"wgPageName\":\"Championnat_de_France_de_football_2016-2017\",\"wgTitle\":\"Championnat de France de football 2016-2017\",\"wgCurRevisionId\":140165869,\"wgRevisionId\":140165869,\"wgArticleId\":9734718,\"wgIsArticle\":true,\"wgIsRedirect\":false,\"wgAction\":\"view\",\"wgUserName\":null,\"wgUserGroups\":[\"*\"],\"wgCategories\":[\"Article avec une section vide ou incompl\\xc3\\xa8te\",\"Article avec section \\xc3\\xa0 d\\xc3\\xa9lister\",\"Article \\xc3\\xa0 d\\xc3\\xa9lister\",\"Portail:Football/Articles li\\xc3\\xa9s\",\"Portail:Sport/Articles li\\xc3\\xa9s\",\"Portail:France/Articles li\\xc3\\xa9s\",\"Portail:Europe/Articles li\\xc3\\xa9s\",'\n"
     ]
    }
   ],
   "source": [
    "# Etape 1 : se connecter à la page wikipedia et obtenir le code source\n",
    "\n",
    "url_ligue_1 = \"https://fr.wikipedia.org/wiki/Championnat_de_France_de_football_2016-2017\"\n",
    "    \n",
    "from urllib import request\n",
    "\n",
    "request_text = request.urlopen(url_ligue_1).read()\n",
    "print(request_text[:1000])    "
   ]
  },
  {
   "cell_type": "code",
   "execution_count": 3,
   "metadata": {},
   "outputs": [
    {
     "ename": "FeatureNotFound",
     "evalue": "Couldn't find a tree builder with the features you requested: lxml. Do you need to install a parser library?",
     "output_type": "error",
     "traceback": [
      "\u001b[0;31m---------------------------------------------------------------------------\u001b[0m",
      "\u001b[0;31mFeatureNotFound\u001b[0m                           Traceback (most recent call last)",
      "\u001b[0;32m<ipython-input-3-cf3d9d3ca02b>\u001b[0m in \u001b[0;36m<module>\u001b[0;34m()\u001b[0m\n\u001b[1;32m      2\u001b[0m \u001b[0;31m# qui \"comprend\" les balises contenues dans la chaine de caractères renvoyée par la fonction request\u001b[0m\u001b[0;34m\u001b[0m\u001b[0;34m\u001b[0m\u001b[0m\n\u001b[1;32m      3\u001b[0m \u001b[0;34m\u001b[0m\u001b[0m\n\u001b[0;32m----> 4\u001b[0;31m \u001b[0mpage\u001b[0m \u001b[0;34m=\u001b[0m \u001b[0mbs4\u001b[0m\u001b[0;34m.\u001b[0m\u001b[0mBeautifulSoup\u001b[0m\u001b[0;34m(\u001b[0m\u001b[0mrequest_text\u001b[0m\u001b[0;34m,\u001b[0m \u001b[0;34m\"lxml\"\u001b[0m\u001b[0;34m)\u001b[0m\u001b[0;34m\u001b[0m\u001b[0m\n\u001b[0m\u001b[1;32m      5\u001b[0m \u001b[0;34m\u001b[0m\u001b[0m\n\u001b[1;32m      6\u001b[0m \u001b[0;31m#print(page)\u001b[0m\u001b[0;34m\u001b[0m\u001b[0;34m\u001b[0m\u001b[0m\n",
      "\u001b[0;32m~/dev/scraping/.venv/lib/python3.5/site-packages/bs4/__init__.py\u001b[0m in \u001b[0;36m__init__\u001b[0;34m(self, markup, features, builder, parse_only, from_encoding, exclude_encodings, **kwargs)\u001b[0m\n\u001b[1;32m    163\u001b[0m                     \u001b[0;34m\"Couldn't find a tree builder with the features you \"\u001b[0m\u001b[0;34m\u001b[0m\u001b[0m\n\u001b[1;32m    164\u001b[0m                     \u001b[0;34m\"requested: %s. Do you need to install a parser library?\"\u001b[0m\u001b[0;34m\u001b[0m\u001b[0m\n\u001b[0;32m--> 165\u001b[0;31m                     % \",\".join(features))\n\u001b[0m\u001b[1;32m    166\u001b[0m             \u001b[0mbuilder\u001b[0m \u001b[0;34m=\u001b[0m \u001b[0mbuilder_class\u001b[0m\u001b[0;34m(\u001b[0m\u001b[0;34m)\u001b[0m\u001b[0;34m\u001b[0m\u001b[0m\n\u001b[1;32m    167\u001b[0m             if not (original_features == builder.NAME or\n",
      "\u001b[0;31mFeatureNotFound\u001b[0m: Couldn't find a tree builder with the features you requested: lxml. Do you need to install a parser library?"
     ]
    }
   ],
   "source": [
    "# Etape 2 : utiliser le package BeautifulSoup\n",
    "# qui \"comprend\" les balises contenues dans la chaine de caractères renvoyée par la fonction request\n",
    "\n",
    "page = bs4.BeautifulSoup(request_text, \"lxml\")\n",
    "\n",
    "#print(page)"
   ]
  },
  {
   "cell_type": "markdown",
   "metadata": {},
   "source": [
    "Si on print l'objet, page créée avec BeautifulSoup, on voit que ce n'est plus une chaine de caractères mais bien une page HTML avec des balises. On peut à présenter chercher des élements à l'intérieur de ces balises.\n",
    "\n",
    "\n",
    "par exemple, si on veut connaire le titre de la page, on utilise la méthode .find et on lui demande \"title\""
   ]
  },
  {
   "cell_type": "code",
   "execution_count": null,
   "metadata": {},
   "outputs": [
    {
     "name": "stdout",
     "output_type": "stream",
     "text": [
      "<title>Championnat de France de football 2016-2017 — Wikipédia</title>\n"
     ]
    }
   ],
   "source": [
    "print(page.find(\"title\"))"
   ]
  },
  {
   "cell_type": "markdown",
   "metadata": {},
   "source": [
    "la methode .find ne renvoie que la première occurence de l'élément"
   ]
  },
  {
   "cell_type": "code",
   "execution_count": null,
   "metadata": {},
   "outputs": [
    {
     "name": "stdout",
     "output_type": "stream",
     "text": [
      "<table>\n",
      "<caption style=\"background:#99cc99; color: #000000;\">Généralités</caption>\n",
      "<tr>\n",
      "<th scope=\"row\" style=\"width:10.5em;\">Sport</th>\n",
      "<td><a href=\"/wiki/Football\" title=\"Football\">Football</a></td>\n",
      "</tr>\n",
      "<tr>\n",
      "<th scope=\"row\" style=\"width:10.5em;\">Organisateur(s)</th>\n",
      "<td><a href=\"/wiki/Ligue_de_football_professionnel\" title=\"Ligue de football professionnel\">LFP</a></td>\n",
      "</tr>\n",
      "<tr>\n",
      "<th scope=\"row\" style=\"width:10.5em;\">Édition</th>\n",
      "<td><abbr class=\"abbr\" title=\"Soixante-dix-neuvième (septante-neuvième)\">79<sup>e</sup></abbr></td>\n",
      "</tr>\n",
      "<tr>\n",
      "<th scope=\"row\" style=\"width:10.5em;\">Lieu(x)</th>\n",
      "<td><span class=\"datasortkey\" data-sort-value=\"France\"><span class=\"flagicon\"><a class=\"image\" href=\"/wiki/Fichier:Flag_of_France.svg\" title=\"Drapeau de la France\"><img alt=\"Drapeau de la France\" class=\"noviewer thumbborder\" data-file-height=\"600\" data-file-width=\"900\" height=\"13\" src=\"//upload.wikimedia.org/wikipedia/commons/thumb/c/c3/Flag_of_France.svg/20px-Flag_of_France.svg.png\" srcset=\"//upload.wikimedia.org/wikipedia/commons/thumb/c/c3/Flag_of_France.svg/30px-Flag_of_France.svg.png 1.5x, //upload.wikimedia.org/wikipedia/commons/thumb/c/c3/Flag_of_France.svg/40px-Flag_of_France.svg.png 2x\" width=\"20\"/></a> </span><a href=\"/wiki/France\" title=\"France\">France</a></span> et <span class=\"datasortkey\" data-sort-value=\"Monaco\"><span class=\"flagicon\"><a class=\"image\" href=\"/wiki/Fichier:Flag_of_Monaco.svg\" title=\"Drapeau de Monaco\"><img alt=\"Drapeau de Monaco\" class=\"noviewer thumbborder\" data-file-height=\"600\" data-file-width=\"750\" height=\"16\" src=\"//upload.wikimedia.org/wikipedia/commons/thumb/e/ea/Flag_of_Monaco.svg/20px-Flag_of_Monaco.svg.png\" srcset=\"//upload.wikimedia.org/wikipedia/commons/thumb/e/ea/Flag_of_Monaco.svg/30px-Flag_of_Monaco.svg.png 1.5x, //upload.wikimedia.org/wikipedia/commons/thumb/e/ea/Flag_of_Monaco.svg/40px-Flag_of_Monaco.svg.png 2x\" width=\"20\"/></a> </span><a href=\"/wiki/Monaco\" title=\"Monaco\">Monaco</a></span></td>\n",
      "</tr>\n",
      "<tr>\n",
      "<th scope=\"row\" style=\"width:10.5em;\">Date</th>\n",
      "<td>du <time class=\"nowrap date-lien\" datetime=\"2016-08-12\"><a href=\"/wiki/12_ao%C3%BBt\" title=\"12 août\">12</a> <a href=\"/wiki/Ao%C3%BBt_2016\" title=\"Août 2016\">août</a> <a href=\"/wiki/2016\" title=\"2016\">2016</a></time><br/>\n",
      "au <time class=\"nowrap date-lien\" datetime=\"2017-05-20\"><a href=\"/wiki/20_mai\" title=\"20 mai\">20</a> <a href=\"/wiki/Mai_2017\" title=\"Mai 2017\">mai</a> <a href=\"/wiki/2017\" title=\"2017\">2017</a></time></td>\n",
      "</tr>\n",
      "<tr>\n",
      "<th scope=\"row\" style=\"width:10.5em;\">Participants</th>\n",
      "<td>20 équipes</td>\n",
      "</tr>\n",
      "<tr>\n",
      "<th scope=\"row\" style=\"width:10.5em;\">Matchs joués</th>\n",
      "<td>380</td>\n",
      "</tr>\n",
      "<tr>\n",
      "<th scope=\"row\" style=\"width:10.5em;\">Affluence</th>\n",
      "<td>7 965 830 <small>(20 963 par match)</small></td>\n",
      "</tr>\n",
      "<tr>\n",
      "<th scope=\"row\" style=\"width:10.5em;\">Site web officiel</th>\n",
      "<td>\n",
      "<p class=\"plainlinks\"><a class=\"external text\" href=\"http://www.lfp.fr\" rel=\"nofollow\">Site officiel</a></p>\n",
      "</td>\n",
      "</tr>\n",
      "</table>\n"
     ]
    }
   ],
   "source": [
    "print(page.find(\"table\"))"
   ]
  },
  {
   "cell_type": "markdown",
   "metadata": {},
   "source": [
    "---------------\n",
    "Pour trouver toutes les occurences, on utilise .findAll()"
   ]
  },
  {
   "cell_type": "code",
   "execution_count": null,
   "metadata": {},
   "outputs": [
    {
     "name": "stdout",
     "output_type": "stream",
     "text": [
      "Il y a 32 éléments dans la page qui sont des <table>\n"
     ]
    }
   ],
   "source": [
    "print(\"Il y a\", len(page.findAll(\"table\")), \"éléments dans la page qui sont des <table>\")"
   ]
  },
  {
   "cell_type": "code",
   "execution_count": null,
   "metadata": {},
   "outputs": [
    {
     "name": "stdout",
     "output_type": "stream",
     "text": [
      " Le 2eme tableau de la page : Hiérarchie \n",
      " <table>\n",
      "<caption style=\"background:#99cc99; color: #000000;\">Hiérarchie</caption>\n",
      "<tr>\n",
      "<th scope=\"row\" style=\"width:10.5em;\">Hiérarchie</th>\n",
      "<td><abbr class=\"abbr\" title=\"Premier\">1<sup>er</sup></abbr> échelon</td>\n",
      "</tr>\n",
      "<tr>\n",
      "<th scope=\"row\" style=\"width:10.5em;\">Niveau inférieur</th>\n",
      "<td><a href=\"/wiki/Championnat_de_France_de_football_de_Ligue_2_2016-2017\" title=\"Championnat de France de football de Ligue 2 2016-2017\">Ligue 2 2016-2017</a></td>\n",
      "</tr>\n",
      "</table>\n",
      "--------------------------------------------------------\n",
      "Le 3eme tableau de la page : Palmarès \n",
      " <table>\n",
      "<caption style=\"background:#99cc99; color: #000000;\">Palmarès</caption>\n",
      "<tr>\n",
      "<th scope=\"row\" style=\"width:10.5em;\">Tenant du titre</th>\n",
      "<td><a href=\"/wiki/Paris_Saint-Germain_Football_Club\" title=\"Paris Saint-Germain Football Club\">Paris Saint-Germain</a> (6)</td>\n",
      "</tr>\n",
      "<tr>\n",
      "<th scope=\"row\" style=\"width:10.5em;\">Promu(s) en début de saison</th>\n",
      "<td><a class=\"mw-redirect\" href=\"/wiki/Association_sportive_Nancy-Lorraine\" title=\"Association sportive Nancy-Lorraine\">AS Nancy-Lorraine</a><br/>\n",
      "<a href=\"/wiki/Dijon_Football_C%C3%B4te-d%27Or\" title=\"Dijon Football Côte-d'Or\">Dijon FCO</a><br/>\n",
      "<a href=\"/wiki/Football_Club_de_Metz\" title=\"Football Club de Metz\">FC Metz</a></td>\n",
      "</tr>\n",
      "<tr>\n",
      "<th scope=\"row\" style=\"width:10.5em;\">Vainqueur</th>\n",
      "<td><b><a class=\"mw-redirect\" href=\"/wiki/AS_Monaco_Football_Club\" title=\"AS Monaco Football Club\">AS Monaco</a></b> (8)</td>\n",
      "</tr>\n",
      "<tr>\n",
      "<th scope=\"row\" style=\"width:10.5em;\">Deuxième</th>\n",
      "<td><a href=\"/wiki/Paris_Saint-Germain_Football_Club\" title=\"Paris Saint-Germain Football Club\">Paris Saint-Germain</a></td>\n",
      "</tr>\n",
      "<tr>\n",
      "<th scope=\"row\" style=\"width:10.5em;\">Troisième</th>\n",
      "<td><a href=\"/wiki/Olympique_Gymnaste_Club_Nice_C%C3%B4te_d%27Azur\" title=\"Olympique Gymnaste Club Nice Côte d'Azur\">OGC Nice</a></td>\n",
      "</tr>\n",
      "<tr>\n",
      "<th scope=\"row\" style=\"width:10.5em;\">Relégué(s)</th>\n",
      "<td><a class=\"mw-redirect\" href=\"/wiki/AS_Nancy-Lorraine\" title=\"AS Nancy-Lorraine\">AS Nancy-Lorraine</a><br/>\n",
      "<a class=\"mw-redirect\" href=\"/wiki/SC_Bastia\" title=\"SC Bastia\">SC Bastia</a><br/>\n",
      "<a class=\"mw-redirect\" href=\"/wiki/FC_Lorient\" title=\"FC Lorient\">FC Lorient</a></td>\n",
      "</tr>\n",
      "<tr>\n",
      "<th scope=\"row\" style=\"width:10.5em;\">Buts</th>\n",
      "<td>991 <small>(2,61 par match)</small></td>\n",
      "</tr>\n",
      "<tr>\n",
      "<th scope=\"row\" style=\"width:10.5em;\"><img alt=\"Averti\" data-file-height=\"260\" data-file-width=\"200\" height=\"13\" src=\"//upload.wikimedia.org/wikipedia/commons/thumb/b/b1/Yellow_card.svg/10px-Yellow_card.svg.png\" srcset=\"//upload.wikimedia.org/wikipedia/commons/thumb/b/b1/Yellow_card.svg/15px-Yellow_card.svg.png 1.5x, //upload.wikimedia.org/wikipedia/commons/thumb/b/b1/Yellow_card.svg/20px-Yellow_card.svg.png 2x\" title=\"Averti\" width=\"10\"/> Cartons Jaunes</th>\n",
      "<td>1297</td>\n",
      "</tr>\n",
      "<tr>\n",
      "<th scope=\"row\" style=\"width:10.5em;\"><a class=\"image\" href=\"/wiki/Fichier:Red_card.svg\"><img alt=\"Red card.svg\" data-file-height=\"260\" data-file-width=\"200\" height=\"13\" src=\"//upload.wikimedia.org/wikipedia/commons/thumb/e/e7/Red_card.svg/10px-Red_card.svg.png\" srcset=\"//upload.wikimedia.org/wikipedia/commons/thumb/e/e7/Red_card.svg/15px-Red_card.svg.png 1.5x, //upload.wikimedia.org/wikipedia/commons/thumb/e/e7/Red_card.svg/20px-Red_card.svg.png 2x\" width=\"10\"/></a> Cartons Rouges</th>\n",
      "<td>96</td>\n",
      "</tr>\n",
      "<tr>\n",
      "<th scope=\"row\" style=\"width:10.5em;\">Meilleur joueur</th>\n",
      "<td><span class=\"flagicon\"><a class=\"image\" href=\"/wiki/Fichier:Flag_of_Uruguay.svg\" title=\"Drapeau : Uruguay\"><img alt=\"Drapeau : Uruguay\" class=\"noviewer thumbborder\" data-file-height=\"600\" data-file-width=\"900\" height=\"13\" src=\"//upload.wikimedia.org/wikipedia/commons/thumb/f/fe/Flag_of_Uruguay.svg/20px-Flag_of_Uruguay.svg.png\" srcset=\"//upload.wikimedia.org/wikipedia/commons/thumb/f/fe/Flag_of_Uruguay.svg/30px-Flag_of_Uruguay.svg.png 1.5x, //upload.wikimedia.org/wikipedia/commons/thumb/f/fe/Flag_of_Uruguay.svg/40px-Flag_of_Uruguay.svg.png 2x\" width=\"20\"/></a></span> <a href=\"/wiki/Edinson_Cavani\" title=\"Edinson Cavani\">Edinson Cavani</a></td>\n",
      "</tr>\n",
      "<tr>\n",
      "<th scope=\"row\" style=\"width:10.5em;\">Meilleur(s) buteur(s)</th>\n",
      "<td><span class=\"flagicon\"><a class=\"image\" href=\"/wiki/Fichier:Flag_of_Uruguay.svg\" title=\"Drapeau : Uruguay\"><img alt=\"Drapeau : Uruguay\" class=\"noviewer thumbborder\" data-file-height=\"600\" data-file-width=\"900\" height=\"13\" src=\"//upload.wikimedia.org/wikipedia/commons/thumb/f/fe/Flag_of_Uruguay.svg/20px-Flag_of_Uruguay.svg.png\" srcset=\"//upload.wikimedia.org/wikipedia/commons/thumb/f/fe/Flag_of_Uruguay.svg/30px-Flag_of_Uruguay.svg.png 1.5x, //upload.wikimedia.org/wikipedia/commons/thumb/f/fe/Flag_of_Uruguay.svg/40px-Flag_of_Uruguay.svg.png 2x\" width=\"20\"/></a></span> <a href=\"/wiki/Edinson_Cavani\" title=\"Edinson Cavani\">Edinson Cavani</a> (35)</td>\n",
      "</tr>\n",
      "<tr>\n",
      "<th scope=\"row\" style=\"width:10.5em;\">Meilleur(s) passeur(s)</th>\n",
      "<td><span class=\"flagicon\"><a class=\"image\" href=\"/wiki/Fichier:Flag_of_France.svg\" title=\"Drapeau : France\"><img alt=\"Drapeau : France\" class=\"noviewer thumbborder\" data-file-height=\"600\" data-file-width=\"900\" height=\"13\" src=\"//upload.wikimedia.org/wikipedia/commons/thumb/c/c3/Flag_of_France.svg/20px-Flag_of_France.svg.png\" srcset=\"//upload.wikimedia.org/wikipedia/commons/thumb/c/c3/Flag_of_France.svg/30px-Flag_of_France.svg.png 1.5x, //upload.wikimedia.org/wikipedia/commons/thumb/c/c3/Flag_of_France.svg/40px-Flag_of_France.svg.png 2x\" width=\"20\"/></a></span> <a href=\"/wiki/Morgan_Sanson\" title=\"Morgan Sanson\">Morgan Sanson</a> (12)</td>\n",
      "</tr>\n",
      "<tr>\n",
      "<th scope=\"row\" style=\"width:10.5em;\">Barragiste(s)</th>\n",
      "<td><a class=\"mw-redirect\" href=\"/wiki/FC_Lorient\" title=\"FC Lorient\">FC Lorient</a></td>\n",
      "</tr>\n",
      "</table>\n"
     ]
    }
   ],
   "source": [
    "print(\" Le 2eme tableau de la page : Hiérarchie \\n\", page.findAll(\"table\")[1])\n",
    "print(\"--------------------------------------------------------\")\n",
    "print(\"Le 3eme tableau de la page : Palmarès \\n\",page.findAll(\"table\")[2])"
   ]
  },
  {
   "cell_type": "markdown",
   "metadata": {},
   "source": [
    "### Exercice guidé : obtenir la liste des équipes de Ligue 1\n",
    "\n",
    "La liste des équipes est dans le tableau \"Participants\" : dans le code source, on voit que ce tableau est celui qui a class = \"DebutCarte\" \n",
    "\n",
    "On voit également que les balises qui encerclent les noms et les urls des clubs sont de la forme suivante"
   ]
  },
  {
   "cell_type": "markdown",
   "metadata": {},
   "source": [
    "```\n",
    "<a href=\"url_club\" title=\"nom_club\"> Nom du club </a>\n",
    "```"
   ]
  },
  {
   "cell_type": "code",
   "execution_count": null,
   "metadata": {},
   "outputs": [
    {
     "name": "stdout",
     "output_type": "stream",
     "text": [
      "<a class=\"image\" href=\"/wiki/Fichier:France_location_map-Regions-2016.svg\"><img alt=\"France location map-Regions-2016.svg\" data-file-height=\"1922\" data-file-width=\"2000\" height=\"288\" src=\"//upload.wikimedia.org/wikipedia/commons/thumb/b/b1/France_location_map-Regions-2016.svg/300px-France_location_map-Regions-2016.svg.png\" srcset=\"//upload.wikimedia.org/wikipedia/commons/thumb/b/b1/France_location_map-Regions-2016.svg/450px-France_location_map-Regions-2016.svg.png 1.5x, //upload.wikimedia.org/wikipedia/commons/thumb/b/b1/France_location_map-Regions-2016.svg/600px-France_location_map-Regions-2016.svg.png 2x\" width=\"300\"/></a> \n",
      "-------\n",
      "<a href=\"/wiki/Paris_Saint-Germain_Football_Club\" title=\"Paris Saint-Germain Football Club\">Paris SG</a> \n",
      "-------\n",
      "<a href=\"/wiki/Association_sportive_de_Monaco_football_club\" title=\"Association sportive de Monaco football club\">AS Monaco FC</a> \n",
      "-------\n",
      "<a href=\"/wiki/Olympique_lyonnais\" title=\"Olympique lyonnais\">Olympique lyonnais</a> \n",
      "-------\n",
      "<a href=\"/wiki/Stade_rennais_football_club\" title=\"Stade rennais football club\">Stade rennais FC</a> \n",
      "-------\n"
     ]
    }
   ],
   "source": [
    "for item in page.find('table', {'class' : 'DebutCarte'}).findAll({'a'})[0:5] : \n",
    "    print(item, \"\\n-------\")"
   ]
  },
  {
   "cell_type": "markdown",
   "metadata": {},
   "source": [
    "On n'a pas envie de prendre le premier élément qui ne correspond pas à un club mais à une image.\n",
    "\n",
    "Or cet élément est le seul qui n'ait pas de title = \"\". \n",
    "\n",
    "Il est conseillé d'exclure les élements qui ne nous intéressent pas en indiquant les éléments que la ligne doit avoir au lieu de les exclure en fonction de leur place dans la liste"
   ]
  },
  {
   "cell_type": "code",
   "execution_count": null,
   "metadata": {},
   "outputs": [
    {
     "name": "stdout",
     "output_type": "stream",
     "text": [
      "<a href=\"/wiki/Paris_Saint-Germain_Football_Club\" title=\"Paris Saint-Germain Football Club\">Paris SG</a>\n",
      "<a href=\"/wiki/Association_sportive_de_Monaco_football_club\" title=\"Association sportive de Monaco football club\">AS Monaco FC</a>\n",
      "<a href=\"/wiki/Olympique_lyonnais\" title=\"Olympique lyonnais\">Olympique lyonnais</a>\n",
      "<a href=\"/wiki/Stade_rennais_football_club\" title=\"Stade rennais football club\">Stade rennais FC</a>\n"
     ]
    }
   ],
   "source": [
    "### condition sur la place dans la liste >>>> MAUVAIS\n",
    "for e, item in enumerate(page.find('table', {'class' : 'DebutCarte'}).findAll({'a'})[0:5]) : \n",
    "    if  e == 0: \n",
    "        pass\n",
    "    else : \n",
    "        print(item)"
   ]
  },
  {
   "cell_type": "code",
   "execution_count": null,
   "metadata": {},
   "outputs": [],
   "source": [
    "#### condition sur les éléments que doit avoir la ligne >>>> BIEN \n",
    "for item in page.find('table', {'class' : 'DebutCarte'}).findAll({'a'})[0:5] : \n",
    "    if item.get(\"title\") :\n",
    "        print(item)"
   ]
  },
  {
   "cell_type": "markdown",
   "metadata": {},
   "source": [
    "Enfin la dernière étape, consiste à obtenir les informations souhaitées, c'est à dire dans notre cas, le nom et l'url des 20 clubs. \n",
    "\n",
    "Pour cela, nous allons utiliser deux méthodes de l'élement item : \n",
    "- getText() qui permet d'obtenir le texte qui est sur la page web et dans la balise  < a>\n",
    "- get('xxxx') qui permet d'obtenir l'élément qui est égal à xxxx\n",
    "\n",
    "Dans notre cas, nous allons vouloir le nom du club ainsi que l'url : on va donc utiliser __getText__ et __get(\"href\")__"
   ]
  },
  {
   "cell_type": "code",
   "execution_count": null,
   "metadata": {},
   "outputs": [
    {
     "name": "stdout",
     "output_type": "stream",
     "text": [
      "/wiki/Paris_Saint-Germain_Football_Club\n",
      "Paris SG\n",
      "/wiki/Association_sportive_de_Monaco_football_club\n",
      "AS Monaco FC\n",
      "/wiki/Olympique_lyonnais\n",
      "Olympique lyonnais\n",
      "/wiki/Stade_rennais_football_club\n",
      "Stade rennais FC\n"
     ]
    }
   ],
   "source": [
    "for item in page.find('table', {'class' : 'DebutCarte'}).findAll({'a'})[0:5] : \n",
    "    if item.get(\"title\") :\n",
    "        print(item.get(\"href\"))\n",
    "        print(item.getText())"
   ]
  },
  {
   "cell_type": "code",
   "execution_count": null,
   "metadata": {},
   "outputs": [
    {
     "name": "stdout",
     "output_type": "stream",
     "text": [
      "Paris Saint-Germain Football Club\n",
      "Association sportive de Monaco football club\n",
      "Olympique lyonnais\n",
      "Stade rennais football club\n"
     ]
    }
   ],
   "source": [
    "# pour avoir le nom officiel, on aurait utiliser l'élément <title>\n",
    "for item in page.find('table', {'class' : 'DebutCarte'}).findAll({'a'})[0:5] : \n",
    "    if item.get(\"title\") :\n",
    "        print(item.get(\"title\"))"
   ]
  },
  {
   "cell_type": "markdown",
   "metadata": {
    "collapsed": true
   },
   "source": [
    "Toutes ces informations, on souhaite les conserver dans un tableau Excel pour pouvoir les réuitiliser à l'envie : pour cela, rien de plus simple, on va passer par pandas, parce qu'on le maitrise parfaitement à ce stade de la formation."
   ]
  },
  {
   "cell_type": "code",
   "execution_count": null,
   "metadata": {
    "collapsed": true
   },
   "outputs": [],
   "source": [
    "import pandas\n",
    "\n",
    "liste_noms = []\n",
    "liste_urls = []\n",
    "\n",
    "for item in page.find('table', {'class' : 'DebutCarte'}).findAll({'a'}) : \n",
    "    if item.get(\"title\") :\n",
    "        liste_urls.append(item.get(\"href\"))\n",
    "        liste_noms.append(item.getText())\n",
    "        \n",
    "df = pandas.DataFrame.from_dict( {\"clubs\" : liste_noms, 'url' : liste_urls})"
   ]
  },
  {
   "cell_type": "code",
   "execution_count": null,
   "metadata": {},
   "outputs": [
    {
     "data": {
      "text/html": [
       "<div>\n",
       "<style>\n",
       "    .dataframe thead tr:only-child th {\n",
       "        text-align: right;\n",
       "    }\n",
       "\n",
       "    .dataframe thead th {\n",
       "        text-align: left;\n",
       "    }\n",
       "\n",
       "    .dataframe tbody tr th {\n",
       "        vertical-align: top;\n",
       "    }\n",
       "</style>\n",
       "<table border=\"1\" class=\"dataframe\">\n",
       "  <thead>\n",
       "    <tr style=\"text-align: right;\">\n",
       "      <th></th>\n",
       "      <th>clubs</th>\n",
       "      <th>url</th>\n",
       "    </tr>\n",
       "  </thead>\n",
       "  <tbody>\n",
       "    <tr>\n",
       "      <th>0</th>\n",
       "      <td>Paris SG</td>\n",
       "      <td>/wiki/Paris_Saint-Germain_Football_Club</td>\n",
       "    </tr>\n",
       "    <tr>\n",
       "      <th>1</th>\n",
       "      <td>AS Monaco FC</td>\n",
       "      <td>/wiki/Association_sportive_de_Monaco_football_...</td>\n",
       "    </tr>\n",
       "    <tr>\n",
       "      <th>2</th>\n",
       "      <td>Olympique lyonnais</td>\n",
       "      <td>/wiki/Olympique_lyonnais</td>\n",
       "    </tr>\n",
       "    <tr>\n",
       "      <th>3</th>\n",
       "      <td>Stade rennais FC</td>\n",
       "      <td>/wiki/Stade_rennais_football_club</td>\n",
       "    </tr>\n",
       "    <tr>\n",
       "      <th>4</th>\n",
       "      <td>OGC Nice</td>\n",
       "      <td>/wiki/Olympique_gymnaste_club_Nice_C%C3%B4te_d...</td>\n",
       "    </tr>\n",
       "  </tbody>\n",
       "</table>\n",
       "</div>"
      ],
      "text/plain": [
       "                clubs                                                url\n",
       "0            Paris SG            /wiki/Paris_Saint-Germain_Football_Club\n",
       "1        AS Monaco FC  /wiki/Association_sportive_de_Monaco_football_...\n",
       "2  Olympique lyonnais                           /wiki/Olympique_lyonnais\n",
       "3    Stade rennais FC                  /wiki/Stade_rennais_football_club\n",
       "4            OGC Nice  /wiki/Olympique_gymnaste_club_Nice_C%C3%B4te_d..."
      ]
     },
     "execution_count": null,
     "metadata": {},
     "output_type": "execute_result"
    }
   ],
   "source": [
    "df.head()"
   ]
  },
  {
   "cell_type": "markdown",
   "metadata": {},
   "source": [
    "### Exercice de web scraping avec BeautifulSoup\n",
    "\n",
    "Pour cet exercice, nous vous demandons d'obtenir 1) les informations personnelles des 721 pokemons sur le site internet [pokemondb.net](http://pokemondb.net/pokedex/national)\n",
    "\n",
    "Les informations que nous aimerions obtenir au final pour les pokemons sont celles contenues dans 4 tableaux :\n",
    "- Pokédex data\n",
    "- Training\n",
    "- Breeding\n",
    "- Base stats\n",
    "\n",
    "Pour exemple :  http://pokemondb.net/pokedex/nincada\n",
    "\n",
    "2) Nous aimerions que vous récupériez également les images de chacun des pokémons et que vous les enregistriez dans un dossier  (indice : utilisez les modules request et shutil)\n",
    "_pour cette question ci, il faut que vous cherchiez de vous même certains éléments, tout n'est pas présent dans le TD_"
   ]
  },
  {
   "cell_type": "markdown",
   "metadata": {},
   "source": [
    "### Aller sur internet avec Selenium\n",
    "\n",
    "L'avantage du package [Selenium](https://pypi.python.org/pypi/selenium) est d'obtenir des informations du site qui ne sont pas dans le code html mais qui apparaissent uniquement à la suite de l'exécution de script javascript en arrière plan. \n",
    "\n",
    "[Selenium](https://pypi.python.org/pypi/selenium) se comporte comme un utilisateur qui surfe sur internet : il clique sur des liens, il remplit des formulaires etc.\n",
    "\n",
    "\n",
    "Dans cet exemple, nous allons essayer de aller sur le site de [Bing Actualités](https://www.bing.com/news) et entrer dans la barre de recherche un sujet donné."
   ]
  },
  {
   "cell_type": "code",
   "execution_count": null,
   "metadata": {
    "collapsed": true
   },
   "outputs": [],
   "source": [
    "import selenium #pip install selenium\n",
    "# télécharger le chrome driver http://chromedriver.storage.googleapis.com/index.html?path=2.24/\n",
    "path_to_web_driver = \"./chromedriver\""
   ]
  },
  {
   "cell_type": "code",
   "execution_count": null,
   "metadata": {
    "collapsed": true
   },
   "outputs": [],
   "source": [
    "import os, sys\n",
    "from pyquickhelper.filehelper import download, unzip_files\n",
    "if \"win\" in sys.platform:\n",
    "    if not os.path.exists(\"chromedriver_win32.zip\"):\n",
    "        d = download(\"http://chromedriver.storage.googleapis.com/2.24/chromedriver_win32.zip\")\n",
    "    if not os.path.exists(\"chromedriver.exe\"):\n",
    "        unzip_files(\"chromedriver_win32.zip\", where_to=\".\")\n",
    "elif sys.platform.startswith(\"linux\"):\n",
    "    if not os.path.exists(\"chromedriver_linux64.zip\"):\n",
    "        d = download(\"http://chromedriver.storage.googleapis.com/2.24/chromedriver_linux64.zip\")\n",
    "    if not os.path.exists(\"chromedriver\"):\n",
    "        unzip_files(\"chromedriver_linux64.zip\", where_to=\".\")\n",
    "elif sys.platform.startswith(\"darwin\"):\n",
    "    if not os.path.exists(\"chromedriver_mac64.zip\"):\n",
    "        d = download(\"http://chromedriver.storage.googleapis.com/2.24/chromedriver_mac64.zip\")\n",
    "    if not os.path.exists(\"chromedriver\"):\n",
    "        unzip_files(\"chromedriver_mac64.zip\", where_to=\".\")        "
   ]
  },
  {
   "cell_type": "markdown",
   "metadata": {},
   "source": [
    "On soumet la requête."
   ]
  },
  {
   "cell_type": "code",
   "execution_count": null,
   "metadata": {
    "collapsed": true
   },
   "outputs": [],
   "source": [
    "import time\n",
    "\n",
    "from selenium import webdriver\n",
    "from selenium.webdriver.common.keys import Keys\n",
    "\n",
    "browser = webdriver.Chrome(path_to_web_driver)\n",
    "browser.get('https://www.bing.com/news')\n",
    "\n",
    "# on cherche l'endroit où on peut remplir un formulaire en utilisant les outils du navigateur > inspecter les éléments de la page\n",
    "# on voit que la barre de recherche est un élement du code appelé 'q' comme query\n",
    "# on lui demande de chercher cet élément\n",
    "search = browser.find_element_by_name('q')\n",
    "\n",
    "# on envoie à cet endroit le mot qu'on aurait tapé dans la barre de recherche\n",
    "search.send_keys(\"alstom\")\n",
    "\n",
    "# on appuie sur le bouton \"Entrée\" Return en anglais\n",
    "search.send_keys(Keys.RETURN) "
   ]
  },
  {
   "cell_type": "markdown",
   "metadata": {},
   "source": [
    "On extrait les résultats."
   ]
  },
  {
   "cell_type": "code",
   "execution_count": null,
   "metadata": {},
   "outputs": [
    {
     "data": {
      "text/plain": [
       "26"
      ]
     },
     "execution_count": null,
     "metadata": {},
     "output_type": "execute_result"
    }
   ],
   "source": [
    "links = browser.find_elements_by_xpath(\"//div/a[@class='title'][@href]\")\n",
    "\n",
    "results = []\n",
    "for link in links:\n",
    "    url = link.get_attribute('href')\n",
    "    results.append(url)\n",
    "\n",
    "len(results)"
   ]
  },
  {
   "cell_type": "code",
   "execution_count": null,
   "metadata": {
    "collapsed": true
   },
   "outputs": [],
   "source": [
    "# on a une pause de 10 secondes pour aller voir ce qui se passe sur la page internet\n",
    "# on demande de quitter le navigateur quand tout est fini\n",
    "browser.quit()"
   ]
  },
  {
   "cell_type": "code",
   "execution_count": null,
   "metadata": {
    "scrolled": true
   },
   "outputs": [
    {
     "name": "stdout",
     "output_type": "stream",
     "text": [
      "['http://www.boursier.com/actions/actualites/rumeurs/alstom-et-vinci-lorgnent-l-extension-du-metro-athenien-736968.html?fil62', 'http://www.lejsl.com/edition-le-creusot/2017/08/02/alstom-livre-le-premier-tramway-citadis-a-sidney', 'http://www.zonebourse.com/ALSTOM-4607/actualite/ALSTOM-livre-le-tout-premier-vehicule-leger-sur-rail-Citadis-X05-a-la-ville-de-Sydney-en-Australie-24859965/', 'http://www.boursier.com/actions/actualites/news/vinci-et-alstom-en-lice-pour-l-extension-du-metro-d-athenes-736921.html?fil73', 'http://www.boursorama.com/actualites/alstom-sous-les-resistances-une-consolidation-est-probable-ff6fce2372956e79bea82e00b462aa90', 'http://www.estrepublicain.fr/edition-belfort-hericourt-montbeliard/2017/07/31/alstom-a-trouve-la-voie', 'http://www.edubourse.com/cotation/FR0010220475.php', 'http://www.boursorama.com/actualites/alstom-fin-de-consolidation-0442t-5eccaff4ab9bc53cbcd52d2df81502de', 'http://www.cerclefinance.com/default.asp?pub=valactu&isin=FR0010220475&art=489957', 'https://investir.lesechos.fr/actions/actualites/quatre-consortiums-interesses-par-le-metro-d-athenes-source-1697062.php', 'http://www.lejdd.fr/economie/larabie-saoudite-pourrait-choisir-un-metro-francais-3400322', 'http://france3-regions.francetvinfo.fr/auvergne-rhone-alpes/isere/grenoble/grenoble-syndicats-general-electric-ont-ete-recus-au-ministere-economie-1305967.html', 'http://www.webtimemedias.com/article/mobilite-la-metropole-lance-lappel-projets-nice-tram-connect-20170802-60388', 'https://www.lesechos.fr/industrie-services/industrie-lourde/030468516392-stx-une-histoire-mouvementee-depuis-dix-ans-2104769.php', 'http://www.constructioncayola.com/rail/article/2017/07/26/113914/tramway-sidi-bel-abbes-est-service.php', 'http://www.leparisien.fr/economie/nationalisation-de-stx-france-les-precedents-marquants-27-07-2017-7160673.php', 'http://www.lepoint.fr/economie/stx-dix-ans-mouvementes-pour-le-dernier-grand-chantier-naval-francais-27-07-2017-2146221_28.php', 'http://www.latribune.fr/economie/france/la-nationalisation-une-histoire-tres-francaise-745527.html', 'https://www.ndf.fr/poing-de-vue/31-07-2017/macron-le-spectacle-continue/', 'http://lexpansion.lexpress.fr/entreprises/chantiers-navals-stx-la-nationalisation-temporaire-une-idee-ancienne_1932319.html', 'http://www.boursier.com/actions/actualites/rumeurs/alstom-et-vinci-lorgnent-l-extension-du-metro-athenien-736968.html?headline9', 'http://lexpansion.lexpress.fr/entreprises/chantiers-navals-stx-la-nationalisation-temporaire-une-idee-ancienne_1932319.html', 'http://www.lejdd.fr/economie/larabie-saoudite-pourrait-choisir-un-metro-francais-3400322', 'http://france3-regions.francetvinfo.fr/auvergne-rhone-alpes/isere/grenoble/grenoble-syndicats-general-electric-ont-ete-recus-au-ministere-economie-1305967.html', 'https://investir.lesechos.fr/actions/actualites/quatre-consortiums-interesses-par-le-metro-d-athenes-source-1697062.php', 'https://www.boursedirect.fr/fr/actualites/categorie/divers/vinci-et-alstom-en-lice-pour-l-extension-du-metro-d-athenes-boursier-c4b171893fe6e5701f4db5f1794e67c3c6eacf1d']\n"
     ]
    }
   ],
   "source": [
    "print(results)"
   ]
  },
  {
   "cell_type": "markdown",
   "metadata": {},
   "source": [
    "### Obtenir des informations entre deux dates sur Google News"
   ]
  },
  {
   "cell_type": "markdown",
   "metadata": {},
   "source": [
    "En réalité, l'exemple de Google News aurait pu se passer de Selenium et être utilisé directement avec BeautifulSoup et les url qu'on réussit à deviner de Google. \n",
    "\n",
    "Ici, on utilise l'url de Google News pour créer une petite fonction qui donne pour chaque ensemble de (sujet, debut d'une période, fin d'une période) des liens pertinents issus de la recherche Google."
   ]
  },
  {
   "cell_type": "code",
   "execution_count": null,
   "metadata": {
    "collapsed": true
   },
   "outputs": [],
   "source": [
    "import time\n",
    "from selenium import webdriver\n",
    "\n",
    "\n",
    "def get_news_specific_dates (beg_date, end_date, subject, hl = \"fr\", gl = \"fr\", tbm = \"nws\", authuser = \"0\") :\n",
    "    '''Permet d obtenir pour une requete donnée et un intervalle temporel\n",
    "    précis les 10 premiers résultats \n",
    "    d articles de presse parus sur le sujet'''\n",
    "    get_string = 'https://www.google.com/search?hl={}&gl={}&tbm={}&authuser={}&q={}&tbs=cdr%3A1%2Ccd_min%3A{}%2Ccd_max%3A{}&tbm={}'.format(hl,gl,tbm,authuser,subject,beg_date,end_date,tbm)\n",
    "    print(get_string)\n",
    "    browser.get(get_string)\n",
    "    \n",
    "    # La class peut changer si Google met à jour le style de sa page.\n",
    "    # Cela arrive régulièrement. Dans ce cas, il faut utiliser des\n",
    "    # outils de débuggage web (Chrome - Outils de développement)\n",
    "    links = browser.find_elements_by_xpath(\"//h3[@class='r _gJs']/a[@href]\")\n",
    "\n",
    "    results = []\n",
    "    for link in links:\n",
    "        url = link.get_attribute('href')\n",
    "        results.append(url)\n",
    "    browser.quit()    \n",
    "    return results"
   ]
  },
  {
   "cell_type": "code",
   "execution_count": null,
   "metadata": {},
   "outputs": [
    {
     "name": "stdout",
     "output_type": "stream",
     "text": [
      "https://www.google.com/search?hl=fr&gl=fr&tbm=nws&authuser=0&q=société générale jerome kerviel&tbs=cdr%3A1%2Ccd_min%3A5/1/2015%2Ccd_max%3A5/31/2015&tbm=nws\n"
     ]
    }
   ],
   "source": [
    "### On appelle la fonction créée à l'instant\n",
    "browser = webdriver.Chrome(path_to_web_driver)\n",
    "articles_mai_2015 = get_news_specific_dates(\"5/1/2015\",\"5/31/2015\",\"société générale jerome kerviel\",hl=\"fr\")"
   ]
  },
  {
   "cell_type": "code",
   "execution_count": null,
   "metadata": {},
   "outputs": [
    {
     "name": "stdout",
     "output_type": "stream",
     "text": [
      "['http://www.lemonde.fr/les-decodeurs/article/2015/05/19/affaire-kerviel-sept-ans-de-mysteres_4635986_4355770.html', 'https://www.franceinter.fr/emissions/affaires-sensibles/affaires-sensibles-26-mai-2015', 'http://www.humanite.fr/pourquoi-il-faut-reviser-le-proces-de-jerome-kerviel-575388', 'https://www.mediapart.fr/journal/france/170515/le-temoignage-dune-commandante-de-police-fait-exploser-le-dossier-kerviel?onglet=full', 'http://www.humanite.fr/affaire-kerviel-la-societe-generale-doit-changer-de-banc-574281', 'http://www.planet.fr/societe-comment-laffaire-kerviel-est-devenue-laffaire-societe-generale.859648.29336.html', 'http://www.humanite.fr/affaire-kerviel-un-scandale-detat-574812', 'http://lexpansion.lexpress.fr/actualite-economique/video-david-koubbi-l-avocat-de-jerome-kerviel-demande-la-revision-de-son-proces_1680871.html', 'http://lexpansion.lexpress.fr/actualite-economique/apres-l-affaire-kerviel-la-piste-du-scandale-d-etat_1681063.html', 'https://www.challenges.fr/finance-et-marche/lorenzo-bini-smaghli-le-diplomate-de-la-societe-generale_88997']\n"
     ]
    }
   ],
   "source": [
    "print(articles_mai_2015)"
   ]
  },
  {
   "cell_type": "markdown",
   "metadata": {},
   "source": [
    "### Utiliser selenium pour jouer à 2048\n",
    "\n",
    "Dans cet exemple, on utilise le module pour que python appuie lui même sur les touches du clavier afin de jouer à 2048.\n",
    "\n",
    "Note : ce bout de code ne donne pas une solution à 2048, il permet juste de voir ce qu'on peut faire avec selenium"
   ]
  },
  {
   "cell_type": "code",
   "execution_count": null,
   "metadata": {},
   "outputs": [],
   "source": [
    "from selenium import webdriver\n",
    "from selenium.webdriver.common.keys import Keys\n",
    "\n",
    "# on ouvre la page internet du jeu 2048\n",
    "\n",
    "browser = webdriver.Chrome(path_to_web_driver)\n",
    "browser.get('https://gabrielecirulli.github.io/2048/')\n",
    "\n",
    "# Ce qu'on va faire : une boucle qui répète inlassablement la même chose : haut / droite / bas / gauche\n",
    "\n",
    "# on commence par cliquer sur la page pour que les touches sachent \n",
    "browser.find_element_by_class_name('grid-container').click()\n",
    "grid = browser.find_element_by_tag_name('body')\n",
    "\n",
    "# pour savoir quels coups faire à quel moment, on crée un dictionnaire\n",
    "direction = {0: Keys.UP, 1: Keys.RIGHT, 2: Keys.DOWN, 3: Keys.LEFT}\n",
    "count = 0\n",
    "\n",
    "while True:\n",
    "    try: # on vérifie que le bouton \"Try again\" n'est pas là - sinon ça veut dire que le jeu est fini\n",
    "        retryButton = browser.find_element_by_link_text('Try again')\n",
    "        scoreElem = browser.find_element_by_class_name('score-container')\n",
    "        break\n",
    "    except:\n",
    "        #Do nothing.  Game is not over yet\n",
    "        pass\n",
    "    # on continue le jeu - on appuie sur la touche suivante pour le coup d'après\n",
    "    count += 1\n",
    "    grid.send_keys(direction[count % 4]) \n",
    "    time.sleep(0.1)\n",
    "\n",
    "print('Score final : {} en {} coups'.format(scoreElem.text, count))    \n",
    "browser.quit()"
   ]
  },
  {
   "cell_type": "code",
   "execution_count": null,
   "metadata": {
    "collapsed": true
   },
   "outputs": [],
   "source": []
  }
 ],
 "metadata": {
  "anaconda-cloud": {},
  "kernelspec": {
   "display_name": "Python 3",
   "language": "python",
   "name": "python3"
  },
  "language_info": {
   "codemirror_mode": {
    "name": "ipython",
    "version": 3
   },
   "file_extension": ".py",
   "mimetype": "text/x-python",
   "name": "python",
   "nbconvert_exporter": "python",
   "pygments_lexer": "ipython3",
   "version": "3.5.2"
  }
 },
 "nbformat": 4,
 "nbformat_minor": 1
}
