{
 "cells": [
  {
   "cell_type": "code",
   "execution_count": 3,
   "metadata": {
    "collapsed": true
   },
   "outputs": [],
   "source": [
    "import urllib\n",
    "import bs4"
   ]
  },
  {
   "cell_type": "code",
   "execution_count": 4,
   "metadata": {
    "collapsed": true
   },
   "outputs": [],
   "source": [
    "url_ligue_1=\"https://fr.wikipedia.org/wiki/Championnat_de_France_de_football_2016-2017\""
   ]
  },
  {
   "cell_type": "code",
   "execution_count": 5,
   "metadata": {
    "collapsed": true
   },
   "outputs": [],
   "source": [
    "request_text=urllib.request.urlopen(url_ligue_1).read()"
   ]
  },
  {
   "cell_type": "code",
   "execution_count": 6,
   "metadata": {
    "collapsed": true
   },
   "outputs": [
    {
     "name": "stdout",
     "output_type": "stream",
     "text": [
      "b'<!DOCTYPE html>\\n<html class=\"client-nojs\" lang=\"fr\" dir=\"ltr\">\\n<head>\\n<meta charset=\"UTF-8\"/>\\n<title>Championnat de France de football 2016-2017 \\xe2\\x80\\x94 Wikip\\xc3\\xa9dia</title>\\n<script>document.documentElement.className = document.documentElement.className.replace( /(^|\\\\s)client-nojs(\\\\s|$)/, \"$1client-js$2\" );</script>\\n<script>(window.RLQ=window.RLQ||[]).push(function(){mw.config.set({\"wgCanonicalNamespace\":\"\",\"wgCanonicalSpecialPageName\":false,\"wgNamespaceNumber\":0,\"wgPageName\":\"Championnat_de_France_de_football_2016-2017\",\"wgTitle\":\"Championnat de France de football 2016-2017\",\"wgCurRevisionId\":140165869,\"wgRevisionId\":140165869,\"wgArticleId\":9734718,\"wgIsArticle\":true,\"wgIsRedirect\":false,\"wgAction\":\"view\",\"wgUserName\":null,\"wgUserGroups\":[\"*\"],\"wgCategories\":[\"Article avec une section vide ou incompl\\xc3\\xa8te\",\"Article avec section \\xc3\\xa0 d\\xc3\\xa9lister\",\"Article \\xc3\\xa0 d\\xc3\\xa9lister\",\"Portail:Football/Articles li\\xc3\\xa9s\",\"Portail:Sport/Articles li\\xc3\\xa9s\",\"Portail:France/Articles li\\xc3\\xa9s\",\"Portail:Europe/Articles li\\xc3\\xa9s\",'\n"
     ]
    }
   ],
   "source": [
    "print(request_text[:1000])"
   ]
  },
  {
   "cell_type": "code",
   "execution_count": 9,
   "metadata": {
    "collapsed": true
   },
   "outputs": [],
   "source": [
    "page=bs4.BeautifulSoup(request_text,\"lxml\")"
   ]
  },
  {
   "cell_type": "code",
   "execution_count": 10,
   "metadata": {},
   "outputs": [
    {
     "name": "stdout",
     "output_type": "stream",
     "text": [
      "<title>Championnat de France de football 2016-2017 — Wikipédia</title>\n"
     ]
    }
   ],
   "source": [
    "print(page.find(\"title\"))"
   ]
  },
  {
   "cell_type": "code",
   "execution_count": 11,
   "metadata": {
    "collapsed": true
   },
   "outputs": [
    {
     "name": "stdout",
     "output_type": "stream",
     "text": [
      "<table>\n",
      "<caption style=\"background:#99cc99; color: #000000;\">Généralités</caption>\n",
      "<tr>\n",
      "<th scope=\"row\" style=\"width:10.5em;\">Sport</th>\n",
      "<td><a href=\"/wiki/Football\" title=\"Football\">Football</a></td>\n",
      "</tr>\n",
      "<tr>\n",
      "<th scope=\"row\" style=\"width:10.5em;\">Organisateur(s)</th>\n",
      "<td><a href=\"/wiki/Ligue_de_football_professionnel\" title=\"Ligue de football professionnel\">LFP</a></td>\n",
      "</tr>\n",
      "<tr>\n",
      "<th scope=\"row\" style=\"width:10.5em;\">Édition</th>\n",
      "<td><abbr class=\"abbr\" title=\"Soixante-dix-neuvième (septante-neuvième)\">79<sup>e</sup></abbr></td>\n",
      "</tr>\n",
      "<tr>\n",
      "<th scope=\"row\" style=\"width:10.5em;\">Lieu(x)</th>\n",
      "<td><span class=\"datasortkey\" data-sort-value=\"France\"><span class=\"flagicon\"><a class=\"image\" href=\"/wiki/Fichier:Flag_of_France.svg\" title=\"Drapeau de la France\"><img alt=\"Drapeau de la France\" class=\"noviewer thumbborder\" data-file-height=\"600\" data-file-width=\"900\" height=\"13\" src=\"//upload.wikimedia.org/wikipedia/commons/thumb/c/c3/Flag_of_France.svg/20px-Flag_of_France.svg.png\" srcset=\"//upload.wikimedia.org/wikipedia/commons/thumb/c/c3/Flag_of_France.svg/30px-Flag_of_France.svg.png 1.5x, //upload.wikimedia.org/wikipedia/commons/thumb/c/c3/Flag_of_France.svg/40px-Flag_of_France.svg.png 2x\" width=\"20\"/></a> </span><a href=\"/wiki/France\" title=\"France\">France</a></span> et <span class=\"datasortkey\" data-sort-value=\"Monaco\"><span class=\"flagicon\"><a class=\"image\" href=\"/wiki/Fichier:Flag_of_Monaco.svg\" title=\"Drapeau de Monaco\"><img alt=\"Drapeau de Monaco\" class=\"noviewer thumbborder\" data-file-height=\"600\" data-file-width=\"750\" height=\"16\" src=\"//upload.wikimedia.org/wikipedia/commons/thumb/e/ea/Flag_of_Monaco.svg/20px-Flag_of_Monaco.svg.png\" srcset=\"//upload.wikimedia.org/wikipedia/commons/thumb/e/ea/Flag_of_Monaco.svg/30px-Flag_of_Monaco.svg.png 1.5x, //upload.wikimedia.org/wikipedia/commons/thumb/e/ea/Flag_of_Monaco.svg/40px-Flag_of_Monaco.svg.png 2x\" width=\"20\"/></a> </span><a href=\"/wiki/Monaco\" title=\"Monaco\">Monaco</a></span></td>\n",
      "</tr>\n",
      "<tr>\n",
      "<th scope=\"row\" style=\"width:10.5em;\">Date</th>\n",
      "<td>du <time class=\"nowrap date-lien\" datetime=\"2016-08-12\"><a href=\"/wiki/12_ao%C3%BBt\" title=\"12 août\">12</a> <a href=\"/wiki/Ao%C3%BBt_2016\" title=\"Août 2016\">août</a> <a href=\"/wiki/2016\" title=\"2016\">2016</a></time><br/>\n",
      "au <time class=\"nowrap date-lien\" datetime=\"2017-05-20\"><a href=\"/wiki/20_mai\" title=\"20 mai\">20</a> <a href=\"/wiki/Mai_2017\" title=\"Mai 2017\">mai</a> <a href=\"/wiki/2017\" title=\"2017\">2017</a></time></td>\n",
      "</tr>\n",
      "<tr>\n",
      "<th scope=\"row\" style=\"width:10.5em;\">Participants</th>\n",
      "<td>20 équipes</td>\n",
      "</tr>\n",
      "<tr>\n",
      "<th scope=\"row\" style=\"width:10.5em;\">Matchs joués</th>\n",
      "<td>380</td>\n",
      "</tr>\n",
      "<tr>\n",
      "<th scope=\"row\" style=\"width:10.5em;\">Affluence</th>\n",
      "<td>7 965 830 <small>(20 963 par match)</small></td>\n",
      "</tr>\n",
      "<tr>\n",
      "<th scope=\"row\" style=\"width:10.5em;\">Site web officiel</th>\n",
      "<td>\n",
      "<p class=\"plainlinks\"><a class=\"external text\" href=\"http://www.lfp.fr\" rel=\"nofollow\">Site officiel</a></p>\n",
      "</td>\n",
      "</tr>\n",
      "</table>\n"
     ]
    }
   ],
   "source": [
    "print(page.find(\"table\"))"
   ]
  },
  {
   "cell_type": "code",
   "execution_count": 17,
   "metadata": {},
   "outputs": [
    {
     "name": "stdout",
     "output_type": "stream",
     "text": [
      "il y a 32 élemtns de la page qui sont des <table>\n"
     ]
    }
   ],
   "source": [
    "print(\"il y a\", len(page.findAll(\"table\")), \"élemtns de la page qui sont des <table>\")"
   ]
  },
  {
   "cell_type": "code",
   "execution_count": 32,
   "metadata": {
    "collapsed": true
   },
   "outputs": [],
   "source": [
    "test=page.findAll('table', {'class' : 'DebutCarte'})"
   ]
  },
  {
   "cell_type": "code",
   "execution_count": 33,
   "metadata": {},
   "outputs": [
    {
     "name": "stdout",
     "output_type": "stream",
     "text": [
      "[<table class=\"DebutCarte\" style=\"width:auto; margin:0; border:none; border-spacing:0; padding:0; text-align:center; font-size:72%; line-height:1.1em;\">\n",
      "<tr>\n",
      "<td style=\"border:none; padding:0\">\n",
      "<div style=\"position:relative;;\"><a class=\"image\" href=\"/wiki/Fichier:France_location_map-Regions-2016.svg\"><img alt=\"France location map-Regions-2016.svg\" data-file-height=\"1922\" data-file-width=\"2000\" height=\"288\" src=\"//upload.wikimedia.org/wikipedia/commons/thumb/b/b1/France_location_map-Regions-2016.svg/300px-France_location_map-Regions-2016.svg.png\" srcset=\"//upload.wikimedia.org/wikipedia/commons/thumb/b/b1/France_location_map-Regions-2016.svg/450px-France_location_map-Regions-2016.svg.png 1.5x, //upload.wikimedia.org/wikipedia/commons/thumb/b/b1/France_location_map-Regions-2016.svg/600px-France_location_map-Regions-2016.svg.png 2x\" width=\"300\"/></a>\n",
      "<div style=\"position:absolute;top:26.127523809525%;left:51.912784810121%;width:0px;height:0px;margin:0;padding:0;line-height:0px;background-color:transparent;\">\n",
      "<div style=\"position:relative;top:-8px;left:-8px;width:16px;height:16px;background-color:transparent;\"><img alt=\"Localisation de la ville\" class=\"noviewer\" data-file-height=\"16\" data-file-width=\"16\" height=\"16\" src=\"//upload.wikimedia.org/wikipedia/commons/thumb/2/21/City_locator_4.svg/16px-City_locator_4.svg.png\" srcset=\"//upload.wikimedia.org/wikipedia/commons/thumb/2/21/City_locator_4.svg/24px-City_locator_4.svg.png 1.5x, //upload.wikimedia.org/wikipedia/commons/thumb/2/21/City_locator_4.svg/32px-City_locator_4.svg.png 2x\" width=\"16\"/></div>\n",
      "<div style=\"position:relative;top:-16px;\">\n",
      "<div style=\"font-size:90%;position:relative;top:-0.65em;left:-12.6em;text-align:right;width:12em;line-height:1.2em;\"><span class=\"toponyme\"><b><a href=\"/wiki/Paris_Saint-Germain_Football_Club\" title=\"Paris Saint-Germain Football Club\">Paris SG</a></b></span></div>\n",
      "</div>\n",
      "</div>\n",
      "<div style=\"position:absolute;top:73.919809523813%;left:83.70012658227%;width:0px;height:0px;margin:0;padding:0;line-height:0px;background-color:transparent;\">\n",
      "<div style=\"position:relative;top:-8px;left:-8px;width:16px;height:16px;background-color:transparent;\"><img alt=\"Localisation de la ville\" class=\"noviewer\" data-file-height=\"16\" data-file-width=\"16\" height=\"16\" src=\"//upload.wikimedia.org/wikipedia/commons/thumb/2/21/City_locator_4.svg/16px-City_locator_4.svg.png\" srcset=\"//upload.wikimedia.org/wikipedia/commons/thumb/2/21/City_locator_4.svg/24px-City_locator_4.svg.png 1.5x, //upload.wikimedia.org/wikipedia/commons/thumb/2/21/City_locator_4.svg/32px-City_locator_4.svg.png 2x\" width=\"16\"/></div>\n",
      "<div style=\"position:relative;top:-16px;\">\n",
      "<div style=\"font-size:90%;position:relative;top: 0.35em;left: -6em;text-align:center;width:12em;line-height:1.2em;\"><span class=\"toponyme\"><b><a href=\"/wiki/Association_sportive_de_Monaco_football_club\" title=\"Association sportive de Monaco football club\">AS Monaco FC</a></b></span></div>\n",
      "</div>\n",
      "</div>\n",
      "<div style=\"position:absolute;top:54.628190476193%;left:67.314303797462%;width:0px;height:0px;margin:0;padding:0;line-height:0px;background-color:transparent;\">\n",
      "<div style=\"position:relative;top:-8px;left:-8px;width:16px;height:16px;background-color:transparent;\"><img alt=\"Localisation de la ville\" class=\"noviewer\" data-file-height=\"16\" data-file-width=\"16\" height=\"16\" src=\"//upload.wikimedia.org/wikipedia/commons/thumb/2/21/City_locator_4.svg/16px-City_locator_4.svg.png\" srcset=\"//upload.wikimedia.org/wikipedia/commons/thumb/2/21/City_locator_4.svg/24px-City_locator_4.svg.png 1.5x, //upload.wikimedia.org/wikipedia/commons/thumb/2/21/City_locator_4.svg/32px-City_locator_4.svg.png 2x\" width=\"16\"/></div>\n",
      "<div style=\"position:relative;top:-16px;\">\n",
      "<div style=\"font-size:90%;position:relative;top:-1.75em;left: -6em;text-align:center;width:12em;line-height:1.2em;\"><span class=\"toponyme\"><b><a href=\"/wiki/Olympique_lyonnais\" title=\"Olympique lyonnais\">Olympique lyonnais</a></b></span></div>\n",
      "</div>\n",
      "</div>\n",
      "<div style=\"position:absolute;top:32.252571428573%;left:26.10310126582%;width:0px;height:0px;margin:0;padding:0;line-height:0px;background-color:transparent;\">\n",
      "<div style=\"position:relative;top:-8px;left:-8px;width:16px;height:16px;background-color:transparent;\"><img alt=\"Localisation de la ville\" class=\"noviewer\" data-file-height=\"16\" data-file-width=\"16\" height=\"16\" src=\"//upload.wikimedia.org/wikipedia/commons/thumb/2/21/City_locator_4.svg/16px-City_locator_4.svg.png\" srcset=\"//upload.wikimedia.org/wikipedia/commons/thumb/2/21/City_locator_4.svg/24px-City_locator_4.svg.png 1.5x, //upload.wikimedia.org/wikipedia/commons/thumb/2/21/City_locator_4.svg/32px-City_locator_4.svg.png 2x\" width=\"16\"/></div>\n",
      "<div style=\"position:relative;top:-16px;\">\n",
      "<div style=\"font-size:90%;position:relative;top:-0.65em;left: 0.6em;text-align:left;width:12em;line-height:1.2em;\"><span class=\"toponyme\"><b><a href=\"/wiki/Stade_rennais_football_club\" title=\"Stade rennais football club\">Stade rennais FC</a></b></span></div>\n",
      "</div>\n",
      "</div>\n",
      "<div style=\"position:absolute;top:74.323428571432%;left:82.693607594928%;width:0px;height:0px;margin:0;padding:0;line-height:0px;background-color:transparent;\">\n",
      "<div style=\"position:relative;top:-8px;left:-8px;width:16px;height:16px;background-color:transparent;\"><img alt=\"Localisation de la ville\" class=\"noviewer\" data-file-height=\"16\" data-file-width=\"16\" height=\"16\" src=\"//upload.wikimedia.org/wikipedia/commons/thumb/2/21/City_locator_4.svg/16px-City_locator_4.svg.png\" srcset=\"//upload.wikimedia.org/wikipedia/commons/thumb/2/21/City_locator_4.svg/24px-City_locator_4.svg.png 1.5x, //upload.wikimedia.org/wikipedia/commons/thumb/2/21/City_locator_4.svg/32px-City_locator_4.svg.png 2x\" width=\"16\"/></div>\n",
      "<div style=\"position:relative;top:-16px;\">\n",
      "<div style=\"font-size:90%;position:relative;top:-1.65em;left: 0.5em;text-align:left;width:12em;line-height:1.2em;\"><span class=\"toponyme\"><b><a class=\"mw-redirect\" href=\"/wiki/Olympique_gymnaste_club_Nice_C%C3%B4te_d%27Azur\" title=\"Olympique gymnaste club Nice Côte d'Azur\">OGC Nice</a></b></span></div>\n",
      "</div>\n",
      "</div>\n",
      "<div style=\"position:absolute;top:57.717142857146%;left:64.475822784804%;width:0px;height:0px;margin:0;padding:0;line-height:0px;background-color:transparent;\">\n",
      "<div style=\"position:relative;top:-8px;left:-8px;width:16px;height:16px;background-color:transparent;\"><img alt=\"Localisation de la ville\" class=\"noviewer\" data-file-height=\"16\" data-file-width=\"16\" height=\"16\" src=\"//upload.wikimedia.org/wikipedia/commons/thumb/2/21/City_locator_4.svg/16px-City_locator_4.svg.png\" srcset=\"//upload.wikimedia.org/wikipedia/commons/thumb/2/21/City_locator_4.svg/24px-City_locator_4.svg.png 1.5x, //upload.wikimedia.org/wikipedia/commons/thumb/2/21/City_locator_4.svg/32px-City_locator_4.svg.png 2x\" width=\"16\"/></div>\n",
      "<div style=\"position:relative;top:-16px;\">\n",
      "<div style=\"font-size:90%;position:relative;top: 0.35em;left: -6em;text-align:center;width:12em;line-height:1.2em;\"><span class=\"toponyme\"><b><a href=\"/wiki/Association_sportive_de_Saint-%C3%89tienne\" title=\"Association sportive de Saint-Étienne\">AS Saint-Étienne</a></b></span></div>\n",
      "</div>\n",
      "</div>\n",
      "<div style=\"position:absolute;top:39.793619047621%;left:68.616392405056%;width:0px;height:0px;margin:0;padding:0;line-height:0px;background-color:transparent;\">\n",
      "<div style=\"position:relative;top:-8px;left:-8px;width:16px;height:16px;background-color:transparent;\"><img alt=\"Localisation de la ville\" class=\"noviewer\" data-file-height=\"16\" data-file-width=\"16\" height=\"16\" src=\"//upload.wikimedia.org/wikipedia/commons/thumb/2/21/City_locator_4.svg/16px-City_locator_4.svg.png\" srcset=\"//upload.wikimedia.org/wikipedia/commons/thumb/2/21/City_locator_4.svg/24px-City_locator_4.svg.png 1.5x, //upload.wikimedia.org/wikipedia/commons/thumb/2/21/City_locator_4.svg/32px-City_locator_4.svg.png 2x\" width=\"16\"/></div>\n",
      "<div style=\"position:relative;top:-16px;\">\n",
      "<div style=\"font-size:90%;position:relative;top:-1.75em;left: -6em;text-align:center;width:12em;line-height:1.2em;\"><span class=\"toponyme\"><b><a href=\"/wiki/Dijon_Football_C%C3%B4te-d%27Or\" title=\"Dijon Football Côte-d'Or\">Dijon FCO</a></b></span></div>\n",
      "</div>\n",
      "</div>\n",
      "<div style=\"position:absolute;top:36.613333333335%;left:33.383702531642%;width:0px;height:0px;margin:0;padding:0;line-height:0px;background-color:transparent;\">\n",
      "<div style=\"position:relative;top:-8px;left:-8px;width:16px;height:16px;background-color:transparent;\"><img alt=\"Localisation de la ville\" class=\"noviewer\" data-file-height=\"16\" data-file-width=\"16\" height=\"16\" src=\"//upload.wikimedia.org/wikipedia/commons/thumb/2/21/City_locator_4.svg/16px-City_locator_4.svg.png\" srcset=\"//upload.wikimedia.org/wikipedia/commons/thumb/2/21/City_locator_4.svg/24px-City_locator_4.svg.png 1.5x, //upload.wikimedia.org/wikipedia/commons/thumb/2/21/City_locator_4.svg/32px-City_locator_4.svg.png 2x\" width=\"16\"/></div>\n",
      "<div style=\"position:relative;top:-16px;\">\n",
      "<div style=\"font-size:90%;position:relative;top: 0.25em;left: 0.6em;text-align:left;width:12em;line-height:1.2em;\"><span class=\"toponyme\"><b><a href=\"/wiki/Angers_sporting_club_de_l%27Ouest\" title=\"Angers sporting club de l'Ouest\">Angers SCO</a></b></span></div>\n",
      "</div>\n",
      "</div>\n",
      "<div style=\"position:absolute;top:8.2928571428576%;left:56.058607594931%;width:0px;height:0px;margin:0;padding:0;line-height:0px;background-color:transparent;\">\n",
      "<div style=\"position:relative;top:-8px;left:-8px;width:16px;height:16px;background-color:transparent;\"><img alt=\"Localisation de la ville\" class=\"noviewer\" data-file-height=\"16\" data-file-width=\"16\" height=\"16\" src=\"//upload.wikimedia.org/wikipedia/commons/thumb/2/21/City_locator_4.svg/16px-City_locator_4.svg.png\" srcset=\"//upload.wikimedia.org/wikipedia/commons/thumb/2/21/City_locator_4.svg/24px-City_locator_4.svg.png 1.5x, //upload.wikimedia.org/wikipedia/commons/thumb/2/21/City_locator_4.svg/32px-City_locator_4.svg.png 2x\" width=\"16\"/></div>\n",
      "<div style=\"position:relative;top:-16px;\">\n",
      "<div style=\"font-size:90%;position:relative;top:-0.65em;left:-12.6em;text-align:right;width:12em;line-height:1.2em;\"><span class=\"toponyme\"><b><a href=\"/wiki/LOSC_Lille\" title=\"LOSC Lille\">Lille OSC</a></b></span></div>\n",
      "</div>\n",
      "</div>\n",
      "<div style=\"position:absolute;top:22.066133333334%;left:34.370607594933%;width:0px;height:0px;margin:0;padding:0;line-height:0px;background-color:transparent;\">\n",
      "<div style=\"position:relative;top:-8px;left:-8px;width:16px;height:16px;background-color:transparent;\"><img alt=\"Localisation de la ville\" class=\"noviewer\" data-file-height=\"16\" data-file-width=\"16\" height=\"16\" src=\"//upload.wikimedia.org/wikipedia/commons/thumb/2/21/City_locator_4.svg/16px-City_locator_4.svg.png\" srcset=\"//upload.wikimedia.org/wikipedia/commons/thumb/2/21/City_locator_4.svg/24px-City_locator_4.svg.png 1.5x, //upload.wikimedia.org/wikipedia/commons/thumb/2/21/City_locator_4.svg/32px-City_locator_4.svg.png 2x\" width=\"16\"/></div>\n",
      "<div style=\"position:relative;top:-16px;\">\n",
      "<div style=\"font-size:90%;position:relative;top:-1.75em;left: -6em;text-align:center;width:12em;line-height:1.2em;\"><span class=\"toponyme\"><b><a href=\"/wiki/Stade_Malherbe_Caen_Calvados_Basse-Normandie\" title=\"Stade Malherbe Caen Calvados Basse-Normandie\">SM Caen</a></b></span></div>\n",
      "</div>\n",
      "</div>\n",
      "<div style=\"position:absolute;top:27.488571428573%;left:75.850759493663%;width:0px;height:0px;margin:0;padding:0;line-height:0px;background-color:transparent;\">\n",
      "<div style=\"position:relative;top:-8px;left:-8px;width:16px;height:16px;background-color:transparent;\"><img alt=\"Localisation de la ville\" class=\"noviewer\" data-file-height=\"16\" data-file-width=\"16\" height=\"16\" src=\"//upload.wikimedia.org/wikipedia/commons/thumb/2/21/City_locator_4.svg/16px-City_locator_4.svg.png\" srcset=\"//upload.wikimedia.org/wikipedia/commons/thumb/2/21/City_locator_4.svg/24px-City_locator_4.svg.png 1.5x, //upload.wikimedia.org/wikipedia/commons/thumb/2/21/City_locator_4.svg/32px-City_locator_4.svg.png 2x\" width=\"16\"/></div>\n",
      "<div style=\"position:relative;top:-16px;\">\n",
      "<div style=\"font-size:90%;position:relative;top: 0.35em;left: -6em;text-align:center;width:12em;line-height:1.2em;\"><span class=\"toponyme\"><b><a class=\"mw-redirect\" href=\"/wiki/Association_sportive_Nancy-Lorraine\" title=\"Association sportive Nancy-Lorraine\">AS Nancy-Lorraine</a></b></span></div>\n",
      "</div>\n",
      "</div>\n",
      "<div style=\"position:absolute;top:40.422857142859%;left:27.054588607592%;width:0px;height:0px;margin:0;padding:0;line-height:0px;background-color:transparent;\">\n",
      "<div style=\"position:relative;top:-8px;left:-8px;width:16px;height:16px;background-color:transparent;\"><img alt=\"Localisation de la ville\" class=\"noviewer\" data-file-height=\"16\" data-file-width=\"16\" height=\"16\" src=\"//upload.wikimedia.org/wikipedia/commons/thumb/2/21/City_locator_4.svg/16px-City_locator_4.svg.png\" srcset=\"//upload.wikimedia.org/wikipedia/commons/thumb/2/21/City_locator_4.svg/24px-City_locator_4.svg.png 1.5x, //upload.wikimedia.org/wikipedia/commons/thumb/2/21/City_locator_4.svg/32px-City_locator_4.svg.png 2x\" width=\"16\"/></div>\n",
      "<div style=\"position:relative;top:-16px;\">\n",
      "<div style=\"font-size:90%;position:relative;top: 0.35em;left: -6em;text-align:center;width:12em;line-height:1.2em;\"><span class=\"toponyme\"><b><a href=\"/wiki/Football_Club_de_Nantes\" title=\"Football Club de Nantes\">FC Nantes</a></b></span></div>\n",
      "</div>\n",
      "</div>\n",
      "<div style=\"position:absolute;top:75.135523809528%;left:61.245063291133%;width:0px;height:0px;margin:0;padding:0;line-height:0px;background-color:transparent;\">\n",
      "<div style=\"position:relative;top:-8px;left:-8px;width:16px;height:16px;background-color:transparent;\"><img alt=\"Localisation de la ville\" class=\"noviewer\" data-file-height=\"16\" data-file-width=\"16\" height=\"16\" src=\"//upload.wikimedia.org/wikipedia/commons/thumb/2/21/City_locator_4.svg/16px-City_locator_4.svg.png\" srcset=\"//upload.wikimedia.org/wikipedia/commons/thumb/2/21/City_locator_4.svg/24px-City_locator_4.svg.png 1.5x, //upload.wikimedia.org/wikipedia/commons/thumb/2/21/City_locator_4.svg/32px-City_locator_4.svg.png 2x\" width=\"16\"/></div>\n",
      "<div style=\"position:relative;top:-16px;\">\n",
      "<div style=\"font-size:90%;position:relative;top:-1.75em;left: -6em;text-align:center;width:12em;line-height:1.2em;\"><span class=\"toponyme\"><b><a href=\"/wiki/Montpellier_H%C3%A9rault_Sport_Club\" title=\"Montpellier Hérault Sport Club\">Montpellier HSC</a></b></span></div>\n",
      "</div>\n",
      "</div>\n",
      "<div style=\"position:absolute;top:63.449619047622%;left:33.043164556959%;width:0px;height:0px;margin:0;padding:0;line-height:0px;background-color:transparent;\">\n",
      "<div style=\"position:relative;top:-8px;left:-8px;width:16px;height:16px;background-color:transparent;\"><img alt=\"Localisation de la ville\" class=\"noviewer\" data-file-height=\"16\" data-file-width=\"16\" height=\"16\" src=\"//upload.wikimedia.org/wikipedia/commons/thumb/2/21/City_locator_4.svg/16px-City_locator_4.svg.png\" srcset=\"//upload.wikimedia.org/wikipedia/commons/thumb/2/21/City_locator_4.svg/24px-City_locator_4.svg.png 1.5x, //upload.wikimedia.org/wikipedia/commons/thumb/2/21/City_locator_4.svg/32px-City_locator_4.svg.png 2x\" width=\"16\"/></div>\n",
      "<div style=\"position:relative;top:-16px;\">\n",
      "<div style=\"font-size:90%;position:relative;top:-1.65em;left:-12.5em;text-align:right;width:12em;line-height:1.2em;\"><span class=\"toponyme\"><b><a href=\"/wiki/Football_Club_des_Girondins_de_Bordeaux\" title=\"Football Club des Girondins de Bordeaux\">FC Girondins de Bordeaux</a></b></span></div>\n",
      "</div>\n",
      "</div>\n",
      "<div style=\"position:absolute;top:83.835428571433%;left:96.524556962016%;width:0px;height:0px;margin:0;padding:0;line-height:0px;background-color:transparent;\">\n",
      "<div style=\"position:relative;top:-8px;left:-8px;width:16px;height:16px;background-color:transparent;\"><img alt=\"Localisation de la ville\" class=\"noviewer\" data-file-height=\"16\" data-file-width=\"16\" height=\"16\" src=\"//upload.wikimedia.org/wikipedia/commons/thumb/2/21/City_locator_4.svg/16px-City_locator_4.svg.png\" srcset=\"//upload.wikimedia.org/wikipedia/commons/thumb/2/21/City_locator_4.svg/24px-City_locator_4.svg.png 1.5x, //upload.wikimedia.org/wikipedia/commons/thumb/2/21/City_locator_4.svg/32px-City_locator_4.svg.png 2x\" width=\"16\"/></div>\n",
      "<div style=\"position:relative;top:-16px;\">\n",
      "<div style=\"font-size:90%;position:relative;top: 0.25em;left:-12.5em;text-align:right;width:12em;line-height:1.2em;\"><span class=\"toponyme\"><b><a href=\"/wiki/Sporting_Club_de_Bastia\" title=\"Sporting Club de Bastia\">SC Bastia</a></b></span></div>\n",
      "</div>\n",
      "</div>\n",
      "<div style=\"position:absolute;top:27.941361904763%;left:16.680974683543%;width:0px;height:0px;margin:0;padding:0;line-height:0px;background-color:transparent;\">\n",
      "<div style=\"position:relative;top:-8px;left:-8px;width:16px;height:16px;background-color:transparent;\"><img alt=\"Localisation de la ville\" class=\"noviewer\" data-file-height=\"16\" data-file-width=\"16\" height=\"16\" src=\"//upload.wikimedia.org/wikipedia/commons/thumb/2/21/City_locator_4.svg/16px-City_locator_4.svg.png\" srcset=\"//upload.wikimedia.org/wikipedia/commons/thumb/2/21/City_locator_4.svg/24px-City_locator_4.svg.png 1.5x, //upload.wikimedia.org/wikipedia/commons/thumb/2/21/City_locator_4.svg/32px-City_locator_4.svg.png 2x\" width=\"16\"/></div>\n",
      "<div style=\"position:relative;top:-16px;\">\n",
      "<div style=\"font-size:90%;position:relative;top:-1.75em;left: -6em;text-align:center;width:12em;line-height:1.2em;\"><span class=\"toponyme\"><b><a href=\"/wiki/En_Avant_de_Guingamp\" title=\"En Avant de Guingamp\">EA Guingamp</a></b></span></div>\n",
      "</div>\n",
      "</div>\n",
      "<div style=\"position:absolute;top:35.730952380954%;left:15.3782278481%;width:0px;height:0px;margin:0;padding:0;line-height:0px;background-color:transparent;\">\n",
      "<div style=\"position:relative;top:-8px;left:-8px;width:16px;height:16px;background-color:transparent;\"><img alt=\"Localisation de la ville\" class=\"noviewer\" data-file-height=\"16\" data-file-width=\"16\" height=\"16\" src=\"//upload.wikimedia.org/wikipedia/commons/thumb/2/21/City_locator_4.svg/16px-City_locator_4.svg.png\" srcset=\"//upload.wikimedia.org/wikipedia/commons/thumb/2/21/City_locator_4.svg/24px-City_locator_4.svg.png 1.5x, //upload.wikimedia.org/wikipedia/commons/thumb/2/21/City_locator_4.svg/32px-City_locator_4.svg.png 2x\" width=\"16\"/></div>\n",
      "<div style=\"position:relative;top:-16px;\">\n",
      "<div style=\"font-size:90%;position:relative;top: 0.35em;left: -6em;text-align:center;width:12em;line-height:1.2em;\"><span class=\"toponyme\"><b><a class=\"mw-redirect\" href=\"/wiki/Football_Club_Lorient-Bretagne_Sud\" title=\"Football Club Lorient-Bretagne Sud\">FC Lorient</a></b></span></div>\n",
      "</div>\n",
      "</div>\n",
      "<div style=\"position:absolute;top:78.128761904766%;left:70.694810126575%;width:0px;height:0px;margin:0;padding:0;line-height:0px;background-color:transparent;\">\n",
      "<div style=\"position:relative;top:-8px;left:-8px;width:16px;height:16px;background-color:transparent;\"><img alt=\"Localisation de la ville\" class=\"noviewer\" data-file-height=\"16\" data-file-width=\"16\" height=\"16\" src=\"//upload.wikimedia.org/wikipedia/commons/thumb/2/21/City_locator_4.svg/16px-City_locator_4.svg.png\" srcset=\"//upload.wikimedia.org/wikipedia/commons/thumb/2/21/City_locator_4.svg/24px-City_locator_4.svg.png 1.5x, //upload.wikimedia.org/wikipedia/commons/thumb/2/21/City_locator_4.svg/32px-City_locator_4.svg.png 2x\" width=\"16\"/></div>\n",
      "<div style=\"position:relative;top:-16px;\">\n",
      "<div style=\"font-size:90%;position:relative;top: 0.35em;left: -6em;text-align:center;width:12em;line-height:1.2em;\"><span class=\"toponyme\"><b><a href=\"/wiki/Olympique_de_Marseille\" title=\"Olympique de Marseille\">Olympique de<br/>\n",
      "Marseille</a></b></span></div>\n",
      "</div>\n",
      "</div>\n",
      "<div style=\"position:absolute;top:22.857142857144%;left:75.962025316448%;width:0px;height:0px;margin:0;padding:0;line-height:0px;background-color:transparent;\">\n",
      "<div style=\"position:relative;top:-8px;left:-8px;width:16px;height:16px;background-color:transparent;\"><img alt=\"Localisation de la ville\" class=\"noviewer\" data-file-height=\"16\" data-file-width=\"16\" height=\"16\" src=\"//upload.wikimedia.org/wikipedia/commons/thumb/2/21/City_locator_4.svg/16px-City_locator_4.svg.png\" srcset=\"//upload.wikimedia.org/wikipedia/commons/thumb/2/21/City_locator_4.svg/24px-City_locator_4.svg.png 1.5x, //upload.wikimedia.org/wikipedia/commons/thumb/2/21/City_locator_4.svg/32px-City_locator_4.svg.png 2x\" width=\"16\"/></div>\n",
      "<div style=\"position:relative;top:-16px;\">\n",
      "<div style=\"font-size:90%;position:relative;top:-1.75em;left: -6em;text-align:center;width:12em;line-height:1.2em;\"><span class=\"toponyme\"><b><a href=\"/wiki/Football_Club_de_Metz\" title=\"Football Club de Metz\">FC Metz</a></b></span></div>\n",
      "</div>\n",
      "</div>\n",
      "<div style=\"position:absolute;top:75.195409523813%;left:45.847860759489%;width:0px;height:0px;margin:0;padding:0;line-height:0px;background-color:transparent;\">\n",
      "<div style=\"position:relative;top:-8px;left:-8px;width:16px;height:16px;background-color:transparent;\"><img alt=\"Localisation de la ville\" class=\"noviewer\" data-file-height=\"16\" data-file-width=\"16\" height=\"16\" src=\"//upload.wikimedia.org/wikipedia/commons/thumb/2/21/City_locator_4.svg/16px-City_locator_4.svg.png\" srcset=\"//upload.wikimedia.org/wikipedia/commons/thumb/2/21/City_locator_4.svg/24px-City_locator_4.svg.png 1.5x, //upload.wikimedia.org/wikipedia/commons/thumb/2/21/City_locator_4.svg/32px-City_locator_4.svg.png 2x\" width=\"16\"/></div>\n",
      "<div style=\"position:relative;top:-16px;\">\n",
      "<div style=\"font-size:90%;position:relative;top:-0.65em;left:-12.6em;text-align:right;width:12em;line-height:1.2em;\"><span class=\"toponyme\"><b><a href=\"/wiki/Toulouse_Football_Club\" title=\"Toulouse Football Club\">Toulouse FC</a></b></span></div>\n",
      "</div>\n",
      "</div>\n",
      "</div>\n",
      "</td>\n",
      "</tr>\n",
      "</table>]\n"
     ]
    }
   ],
   "source": [
    "print(test)"
   ]
  },
  {
   "cell_type": "code",
   "execution_count": 44,
   "metadata": {},
   "outputs": [
    {
     "name": "stdout",
     "output_type": "stream",
     "text": [
      "<a class=\"image\" href=\"/wiki/Fichier:France_location_map-Regions-2016.svg\"><img alt=\"France location map-Regions-2016.svg\" data-file-height=\"1922\" data-file-width=\"2000\" height=\"288\" src=\"//upload.wikimedia.org/wikipedia/commons/thumb/b/b1/France_location_map-Regions-2016.svg/300px-France_location_map-Regions-2016.svg.png\" srcset=\"//upload.wikimedia.org/wikipedia/commons/thumb/b/b1/France_location_map-Regions-2016.svg/450px-France_location_map-Regions-2016.svg.png 1.5x, //upload.wikimedia.org/wikipedia/commons/thumb/b/b1/France_location_map-Regions-2016.svg/600px-France_location_map-Regions-2016.svg.png 2x\" width=\"300\"/></a> \n",
      " \n",
      " '''''''''''''''''''''''\n",
      "<a href=\"/wiki/Paris_Saint-Germain_Football_Club\" title=\"Paris Saint-Germain Football Club\">Paris SG</a> \n",
      " \n",
      " '''''''''''''''''''''''\n",
      "<a href=\"/wiki/Association_sportive_de_Monaco_football_club\" title=\"Association sportive de Monaco football club\">AS Monaco FC</a> \n",
      " \n",
      " '''''''''''''''''''''''\n",
      "<a href=\"/wiki/Olympique_lyonnais\" title=\"Olympique lyonnais\">Olympique lyonnais</a> \n",
      " \n",
      " '''''''''''''''''''''''\n",
      "<a href=\"/wiki/Stade_rennais_football_club\" title=\"Stade rennais football club\">Stade rennais FC</a> \n",
      " \n",
      " '''''''''''''''''''''''\n",
      "<a class=\"mw-redirect\" href=\"/wiki/Olympique_gymnaste_club_Nice_C%C3%B4te_d%27Azur\" title=\"Olympique gymnaste club Nice Côte d'Azur\">OGC Nice</a> \n",
      " \n",
      " '''''''''''''''''''''''\n",
      "<a href=\"/wiki/Association_sportive_de_Saint-%C3%89tienne\" title=\"Association sportive de Saint-Étienne\">AS Saint-Étienne</a> \n",
      " \n",
      " '''''''''''''''''''''''\n",
      "<a href=\"/wiki/Dijon_Football_C%C3%B4te-d%27Or\" title=\"Dijon Football Côte-d'Or\">Dijon FCO</a> \n",
      " \n",
      " '''''''''''''''''''''''\n",
      "<a href=\"/wiki/Angers_sporting_club_de_l%27Ouest\" title=\"Angers sporting club de l'Ouest\">Angers SCO</a> \n",
      " \n",
      " '''''''''''''''''''''''\n",
      "<a href=\"/wiki/LOSC_Lille\" title=\"LOSC Lille\">Lille OSC</a> \n",
      " \n",
      " '''''''''''''''''''''''\n",
      "<a href=\"/wiki/Stade_Malherbe_Caen_Calvados_Basse-Normandie\" title=\"Stade Malherbe Caen Calvados Basse-Normandie\">SM Caen</a> \n",
      " \n",
      " '''''''''''''''''''''''\n",
      "<a class=\"mw-redirect\" href=\"/wiki/Association_sportive_Nancy-Lorraine\" title=\"Association sportive Nancy-Lorraine\">AS Nancy-Lorraine</a> \n",
      " \n",
      " '''''''''''''''''''''''\n",
      "<a href=\"/wiki/Football_Club_de_Nantes\" title=\"Football Club de Nantes\">FC Nantes</a> \n",
      " \n",
      " '''''''''''''''''''''''\n",
      "<a href=\"/wiki/Montpellier_H%C3%A9rault_Sport_Club\" title=\"Montpellier Hérault Sport Club\">Montpellier HSC</a> \n",
      " \n",
      " '''''''''''''''''''''''\n",
      "<a href=\"/wiki/Football_Club_des_Girondins_de_Bordeaux\" title=\"Football Club des Girondins de Bordeaux\">FC Girondins de Bordeaux</a> \n",
      " \n",
      " '''''''''''''''''''''''\n",
      "<a href=\"/wiki/Sporting_Club_de_Bastia\" title=\"Sporting Club de Bastia\">SC Bastia</a> \n",
      " \n",
      " '''''''''''''''''''''''\n",
      "<a href=\"/wiki/En_Avant_de_Guingamp\" title=\"En Avant de Guingamp\">EA Guingamp</a> \n",
      " \n",
      " '''''''''''''''''''''''\n",
      "<a class=\"mw-redirect\" href=\"/wiki/Football_Club_Lorient-Bretagne_Sud\" title=\"Football Club Lorient-Bretagne Sud\">FC Lorient</a> \n",
      " \n",
      " '''''''''''''''''''''''\n",
      "<a href=\"/wiki/Olympique_de_Marseille\" title=\"Olympique de Marseille\">Olympique de<br/>\n",
      "Marseille</a> \n",
      " \n",
      " '''''''''''''''''''''''\n",
      "<a href=\"/wiki/Football_Club_de_Metz\" title=\"Football Club de Metz\">FC Metz</a> \n",
      " \n",
      " '''''''''''''''''''''''\n",
      "<a href=\"/wiki/Toulouse_Football_Club\" title=\"Toulouse Football Club\">Toulouse FC</a> \n",
      " \n",
      " '''''''''''''''''''''''\n"
     ]
    }
   ],
   "source": [
    "for item in page.find('table', {'class' : 'DebutCarte'}).findAll({'a'}) : print(item, \"\\n \\n '''''''''''''''''''''''\")"
   ]
  },
  {
   "cell_type": "code",
   "execution_count": 65,
   "metadata": {},
   "outputs": [
    {
     "name": "stdout",
     "output_type": "stream",
     "text": [
      "Paris Saint-Germain Football Club\n",
      "/wiki/Paris_Saint-Germain_Football_Club\n",
      "Paris SG\n",
      "1 <a href=\"/wiki/Paris_Saint-Germain_Football_Club\" title=\"Paris Saint-Germain Football Club\">Paris SG</a> \n",
      " \n",
      " '''''''''''''''''''''''\n",
      "Association sportive de Monaco football club\n",
      "/wiki/Association_sportive_de_Monaco_football_club\n",
      "AS Monaco FC\n",
      "2 <a href=\"/wiki/Association_sportive_de_Monaco_football_club\" title=\"Association sportive de Monaco football club\">AS Monaco FC</a> \n",
      " \n",
      " '''''''''''''''''''''''\n",
      "Olympique lyonnais\n",
      "/wiki/Olympique_lyonnais\n",
      "Olympique lyonnais\n",
      "3 <a href=\"/wiki/Olympique_lyonnais\" title=\"Olympique lyonnais\">Olympique lyonnais</a> \n",
      " \n",
      " '''''''''''''''''''''''\n",
      "Stade rennais football club\n",
      "/wiki/Stade_rennais_football_club\n",
      "Stade rennais FC\n",
      "4 <a href=\"/wiki/Stade_rennais_football_club\" title=\"Stade rennais football club\">Stade rennais FC</a> \n",
      " \n",
      " '''''''''''''''''''''''\n",
      "Olympique gymnaste club Nice Côte d'Azur\n",
      "/wiki/Olympique_gymnaste_club_Nice_C%C3%B4te_d%27Azur\n",
      "OGC Nice\n",
      "5 <a class=\"mw-redirect\" href=\"/wiki/Olympique_gymnaste_club_Nice_C%C3%B4te_d%27Azur\" title=\"Olympique gymnaste club Nice Côte d'Azur\">OGC Nice</a> \n",
      " \n",
      " '''''''''''''''''''''''\n",
      "Association sportive de Saint-Étienne\n",
      "/wiki/Association_sportive_de_Saint-%C3%89tienne\n",
      "AS Saint-Étienne\n",
      "6 <a href=\"/wiki/Association_sportive_de_Saint-%C3%89tienne\" title=\"Association sportive de Saint-Étienne\">AS Saint-Étienne</a> \n",
      " \n",
      " '''''''''''''''''''''''\n",
      "Dijon Football Côte-d'Or\n",
      "/wiki/Dijon_Football_C%C3%B4te-d%27Or\n",
      "Dijon FCO\n",
      "7 <a href=\"/wiki/Dijon_Football_C%C3%B4te-d%27Or\" title=\"Dijon Football Côte-d'Or\">Dijon FCO</a> \n",
      " \n",
      " '''''''''''''''''''''''\n",
      "Angers sporting club de l'Ouest\n",
      "/wiki/Angers_sporting_club_de_l%27Ouest\n",
      "Angers SCO\n",
      "8 <a href=\"/wiki/Angers_sporting_club_de_l%27Ouest\" title=\"Angers sporting club de l'Ouest\">Angers SCO</a> \n",
      " \n",
      " '''''''''''''''''''''''\n",
      "LOSC Lille\n",
      "/wiki/LOSC_Lille\n",
      "Lille OSC\n",
      "9 <a href=\"/wiki/LOSC_Lille\" title=\"LOSC Lille\">Lille OSC</a> \n",
      " \n",
      " '''''''''''''''''''''''\n",
      "Stade Malherbe Caen Calvados Basse-Normandie\n",
      "/wiki/Stade_Malherbe_Caen_Calvados_Basse-Normandie\n",
      "SM Caen\n",
      "10 <a href=\"/wiki/Stade_Malherbe_Caen_Calvados_Basse-Normandie\" title=\"Stade Malherbe Caen Calvados Basse-Normandie\">SM Caen</a> \n",
      " \n",
      " '''''''''''''''''''''''\n",
      "Association sportive Nancy-Lorraine\n",
      "/wiki/Association_sportive_Nancy-Lorraine\n",
      "AS Nancy-Lorraine\n",
      "11 <a class=\"mw-redirect\" href=\"/wiki/Association_sportive_Nancy-Lorraine\" title=\"Association sportive Nancy-Lorraine\">AS Nancy-Lorraine</a> \n",
      " \n",
      " '''''''''''''''''''''''\n",
      "Football Club de Nantes\n",
      "/wiki/Football_Club_de_Nantes\n",
      "FC Nantes\n",
      "12 <a href=\"/wiki/Football_Club_de_Nantes\" title=\"Football Club de Nantes\">FC Nantes</a> \n",
      " \n",
      " '''''''''''''''''''''''\n",
      "Montpellier Hérault Sport Club\n",
      "/wiki/Montpellier_H%C3%A9rault_Sport_Club\n",
      "Montpellier HSC\n",
      "13 <a href=\"/wiki/Montpellier_H%C3%A9rault_Sport_Club\" title=\"Montpellier Hérault Sport Club\">Montpellier HSC</a> \n",
      " \n",
      " '''''''''''''''''''''''\n",
      "Football Club des Girondins de Bordeaux\n",
      "/wiki/Football_Club_des_Girondins_de_Bordeaux\n",
      "FC Girondins de Bordeaux\n",
      "14 <a href=\"/wiki/Football_Club_des_Girondins_de_Bordeaux\" title=\"Football Club des Girondins de Bordeaux\">FC Girondins de Bordeaux</a> \n",
      " \n",
      " '''''''''''''''''''''''\n",
      "Sporting Club de Bastia\n",
      "/wiki/Sporting_Club_de_Bastia\n",
      "SC Bastia\n",
      "15 <a href=\"/wiki/Sporting_Club_de_Bastia\" title=\"Sporting Club de Bastia\">SC Bastia</a> \n",
      " \n",
      " '''''''''''''''''''''''\n",
      "En Avant de Guingamp\n",
      "/wiki/En_Avant_de_Guingamp\n",
      "EA Guingamp\n",
      "16 <a href=\"/wiki/En_Avant_de_Guingamp\" title=\"En Avant de Guingamp\">EA Guingamp</a> \n",
      " \n",
      " '''''''''''''''''''''''\n",
      "Football Club Lorient-Bretagne Sud\n",
      "/wiki/Football_Club_Lorient-Bretagne_Sud\n",
      "FC Lorient\n",
      "17 <a class=\"mw-redirect\" href=\"/wiki/Football_Club_Lorient-Bretagne_Sud\" title=\"Football Club Lorient-Bretagne Sud\">FC Lorient</a> \n",
      " \n",
      " '''''''''''''''''''''''\n",
      "Olympique de Marseille\n",
      "/wiki/Olympique_de_Marseille\n",
      "Olympique de\n",
      "Marseille\n",
      "18 <a href=\"/wiki/Olympique_de_Marseille\" title=\"Olympique de Marseille\">Olympique de<br/>\n",
      "Marseille</a> \n",
      " \n",
      " '''''''''''''''''''''''\n",
      "Football Club de Metz\n",
      "/wiki/Football_Club_de_Metz\n",
      "FC Metz\n",
      "19 <a href=\"/wiki/Football_Club_de_Metz\" title=\"Football Club de Metz\">FC Metz</a> \n",
      " \n",
      " '''''''''''''''''''''''\n",
      "Toulouse Football Club\n",
      "/wiki/Toulouse_Football_Club\n",
      "Toulouse FC\n",
      "20 <a href=\"/wiki/Toulouse_Football_Club\" title=\"Toulouse Football Club\">Toulouse FC</a> \n",
      " \n",
      " '''''''''''''''''''''''\n"
     ]
    }
   ],
   "source": [
    "for c, value in enumerate(page.find('table', {'class' : 'DebutCarte'}).findAll({'a'})) : \n",
    "    if value.get(\"title\") :\n",
    "        print (value.get(\"title\"))\n",
    "        print (value.get(\"href\"))\n",
    "        print(value.getText())\n",
    "        print(c, value, \"\\n \\n '''''''''''''''''''''''\")"
   ]
  },
  {
   "cell_type": "code",
   "execution_count": 66,
   "metadata": {
    "collapsed": true
   },
   "outputs": [],
   "source": [
    "import pandas"
   ]
  },
  {
   "cell_type": "code",
   "execution_count": 68,
   "metadata": {
    "collapsed": true
   },
   "outputs": [],
   "source": [
    "liste_noms=[]\n",
    "liste_urls=[]"
   ]
  },
  {
   "cell_type": "code",
   "execution_count": 69,
   "metadata": {
    "collapsed": true
   },
   "outputs": [],
   "source": [
    "for  value in page.find('table', {'class' : 'DebutCarte'}).findAll({'a'}) : \n",
    "    if value.get(\"title\") :\n",
    "        liste_noms.append(value.getText())\n",
    "        liste_urls.append(value.get(\"href\"))"
   ]
  },
  {
   "cell_type": "code",
   "execution_count": 71,
   "metadata": {},
   "outputs": [
    {
     "data": {
      "text/plain": [
       "list"
      ]
     },
     "execution_count": 71,
     "metadata": {},
     "output_type": "execute_result"
    }
   ],
   "source": [
    "type(liste_noms)"
   ]
  },
  {
   "cell_type": "code",
   "execution_count": 73,
   "metadata": {
    "collapsed": true
   },
   "outputs": [],
   "source": [
    "df=pandas.DataFrame.from_dict({\"clubs\":liste_noms, 'url':liste_urls})"
   ]
  },
  {
   "cell_type": "code",
   "execution_count": 75,
   "metadata": {},
   "outputs": [
    {
     "data": {
      "text/html": [
       "<div>\n",
       "<style>\n",
       "    .dataframe thead tr:only-child th {\n",
       "        text-align: right;\n",
       "    }\n",
       "\n",
       "    .dataframe thead th {\n",
       "        text-align: left;\n",
       "    }\n",
       "\n",
       "    .dataframe tbody tr th {\n",
       "        vertical-align: top;\n",
       "    }\n",
       "</style>\n",
       "<table border=\"1\" class=\"dataframe\">\n",
       "  <thead>\n",
       "    <tr style=\"text-align: right;\">\n",
       "      <th></th>\n",
       "      <th>clubs</th>\n",
       "      <th>url</th>\n",
       "    </tr>\n",
       "  </thead>\n",
       "  <tbody>\n",
       "    <tr>\n",
       "      <th>0</th>\n",
       "      <td>Paris SG</td>\n",
       "      <td>/wiki/Paris_Saint-Germain_Football_Club</td>\n",
       "    </tr>\n",
       "    <tr>\n",
       "      <th>1</th>\n",
       "      <td>AS Monaco FC</td>\n",
       "      <td>/wiki/Association_sportive_de_Monaco_football_...</td>\n",
       "    </tr>\n",
       "    <tr>\n",
       "      <th>2</th>\n",
       "      <td>Olympique lyonnais</td>\n",
       "      <td>/wiki/Olympique_lyonnais</td>\n",
       "    </tr>\n",
       "    <tr>\n",
       "      <th>3</th>\n",
       "      <td>Stade rennais FC</td>\n",
       "      <td>/wiki/Stade_rennais_football_club</td>\n",
       "    </tr>\n",
       "    <tr>\n",
       "      <th>4</th>\n",
       "      <td>OGC Nice</td>\n",
       "      <td>/wiki/Olympique_gymnaste_club_Nice_C%C3%B4te_d...</td>\n",
       "    </tr>\n",
       "    <tr>\n",
       "      <th>5</th>\n",
       "      <td>AS Saint-Étienne</td>\n",
       "      <td>/wiki/Association_sportive_de_Saint-%C3%89tienne</td>\n",
       "    </tr>\n",
       "    <tr>\n",
       "      <th>6</th>\n",
       "      <td>Dijon FCO</td>\n",
       "      <td>/wiki/Dijon_Football_C%C3%B4te-d%27Or</td>\n",
       "    </tr>\n",
       "    <tr>\n",
       "      <th>7</th>\n",
       "      <td>Angers SCO</td>\n",
       "      <td>/wiki/Angers_sporting_club_de_l%27Ouest</td>\n",
       "    </tr>\n",
       "    <tr>\n",
       "      <th>8</th>\n",
       "      <td>Lille OSC</td>\n",
       "      <td>/wiki/LOSC_Lille</td>\n",
       "    </tr>\n",
       "    <tr>\n",
       "      <th>9</th>\n",
       "      <td>SM Caen</td>\n",
       "      <td>/wiki/Stade_Malherbe_Caen_Calvados_Basse-Norma...</td>\n",
       "    </tr>\n",
       "    <tr>\n",
       "      <th>10</th>\n",
       "      <td>AS Nancy-Lorraine</td>\n",
       "      <td>/wiki/Association_sportive_Nancy-Lorraine</td>\n",
       "    </tr>\n",
       "    <tr>\n",
       "      <th>11</th>\n",
       "      <td>FC Nantes</td>\n",
       "      <td>/wiki/Football_Club_de_Nantes</td>\n",
       "    </tr>\n",
       "    <tr>\n",
       "      <th>12</th>\n",
       "      <td>Montpellier HSC</td>\n",
       "      <td>/wiki/Montpellier_H%C3%A9rault_Sport_Club</td>\n",
       "    </tr>\n",
       "    <tr>\n",
       "      <th>13</th>\n",
       "      <td>FC Girondins de Bordeaux</td>\n",
       "      <td>/wiki/Football_Club_des_Girondins_de_Bordeaux</td>\n",
       "    </tr>\n",
       "    <tr>\n",
       "      <th>14</th>\n",
       "      <td>SC Bastia</td>\n",
       "      <td>/wiki/Sporting_Club_de_Bastia</td>\n",
       "    </tr>\n",
       "    <tr>\n",
       "      <th>15</th>\n",
       "      <td>EA Guingamp</td>\n",
       "      <td>/wiki/En_Avant_de_Guingamp</td>\n",
       "    </tr>\n",
       "    <tr>\n",
       "      <th>16</th>\n",
       "      <td>FC Lorient</td>\n",
       "      <td>/wiki/Football_Club_Lorient-Bretagne_Sud</td>\n",
       "    </tr>\n",
       "    <tr>\n",
       "      <th>17</th>\n",
       "      <td>Olympique de\\nMarseille</td>\n",
       "      <td>/wiki/Olympique_de_Marseille</td>\n",
       "    </tr>\n",
       "    <tr>\n",
       "      <th>18</th>\n",
       "      <td>FC Metz</td>\n",
       "      <td>/wiki/Football_Club_de_Metz</td>\n",
       "    </tr>\n",
       "    <tr>\n",
       "      <th>19</th>\n",
       "      <td>Toulouse FC</td>\n",
       "      <td>/wiki/Toulouse_Football_Club</td>\n",
       "    </tr>\n",
       "  </tbody>\n",
       "</table>\n",
       "</div>"
      ],
      "text/plain": [
       "                       clubs  \\\n",
       "0                   Paris SG   \n",
       "1               AS Monaco FC   \n",
       "2         Olympique lyonnais   \n",
       "3           Stade rennais FC   \n",
       "4                   OGC Nice   \n",
       "5           AS Saint-Étienne   \n",
       "6                  Dijon FCO   \n",
       "7                 Angers SCO   \n",
       "8                  Lille OSC   \n",
       "9                    SM Caen   \n",
       "10         AS Nancy-Lorraine   \n",
       "11                 FC Nantes   \n",
       "12           Montpellier HSC   \n",
       "13  FC Girondins de Bordeaux   \n",
       "14                 SC Bastia   \n",
       "15               EA Guingamp   \n",
       "16                FC Lorient   \n",
       "17   Olympique de\\nMarseille   \n",
       "18                   FC Metz   \n",
       "19               Toulouse FC   \n",
       "\n",
       "                                                  url  \n",
       "0             /wiki/Paris_Saint-Germain_Football_Club  \n",
       "1   /wiki/Association_sportive_de_Monaco_football_...  \n",
       "2                            /wiki/Olympique_lyonnais  \n",
       "3                   /wiki/Stade_rennais_football_club  \n",
       "4   /wiki/Olympique_gymnaste_club_Nice_C%C3%B4te_d...  \n",
       "5    /wiki/Association_sportive_de_Saint-%C3%89tienne  \n",
       "6               /wiki/Dijon_Football_C%C3%B4te-d%27Or  \n",
       "7             /wiki/Angers_sporting_club_de_l%27Ouest  \n",
       "8                                    /wiki/LOSC_Lille  \n",
       "9   /wiki/Stade_Malherbe_Caen_Calvados_Basse-Norma...  \n",
       "10          /wiki/Association_sportive_Nancy-Lorraine  \n",
       "11                      /wiki/Football_Club_de_Nantes  \n",
       "12          /wiki/Montpellier_H%C3%A9rault_Sport_Club  \n",
       "13      /wiki/Football_Club_des_Girondins_de_Bordeaux  \n",
       "14                      /wiki/Sporting_Club_de_Bastia  \n",
       "15                         /wiki/En_Avant_de_Guingamp  \n",
       "16           /wiki/Football_Club_Lorient-Bretagne_Sud  \n",
       "17                       /wiki/Olympique_de_Marseille  \n",
       "18                        /wiki/Football_Club_de_Metz  \n",
       "19                       /wiki/Toulouse_Football_Club  "
      ]
     },
     "execution_count": 75,
     "metadata": {},
     "output_type": "execute_result"
    }
   ],
   "source": [
    "df"
   ]
  },
  {
   "cell_type": "code",
   "execution_count": 10,
   "metadata": {
    "collapsed": true
   },
   "outputs": [],
   "source": [
    "import selenium"
   ]
  },
  {
   "cell_type": "code",
   "execution_count": 5,
   "metadata": {
    "collapsed": true
   },
   "outputs": [],
   "source": [
    "path_to_web_driver=\"./chromedriver\""
   ]
  },
  {
   "cell_type": "code",
   "execution_count": 1,
   "metadata": {
    "collapsed": true
   },
   "outputs": [],
   "source": [
    "import os, sys\n",
    "from pyquickhelper.filehelper import download, unzip_files\n",
    "if \"win\" in sys.platform:\n",
    "    if not os.path.exists(\"chromedriver_win32.zip\"):\n",
    "        d = download(\"http://chromedriver.storage.googleapis.com/2.24/chromedriver_win32.zip\")\n",
    "    if not os.path.exists(\"chromedriver.exe\"):\n",
    "        unzip_files(\"chromedriver_win32.zip\", where_to=\".\")\n",
    "elif sys.platform.startswith(\"linux\"):\n",
    "    if not os.path.exists(\"chromedriver_linux64.zip\"):\n",
    "        d = download(\"http://chromedriver.storage.googleapis.com/2.24/chromedriver_linux64.zip\")\n",
    "    if not os.path.exists(\"chromedriver\"):\n",
    "        unzip_files(\"chromedriver_linux64.zip\", where_to=\".\")\n",
    "elif sys.platform.startswith(\"darwin\"):\n",
    "    if not os.path.exists(\"chromedriver_mac64.zip\"):\n",
    "        d = download(\"http://chromedriver.storage.googleapis.com/2.24/chromedriver_mac64.zip\")\n",
    "    if not os.path.exists(\"chromedriver\"):\n",
    "        unzip_files(\"chromedriver_mac64.zip\", where_to=\".\")        "
   ]
  },
  {
   "cell_type": "code",
   "execution_count": 3,
   "metadata": {
    "collapsed": true
   },
   "outputs": [],
   "source": [
    "import time\n",
    "\n",
    "from selenium import webdriver\n",
    "from selenium.webdriver.common.keys import Keys "
   ]
  },
  {
   "cell_type": "code",
   "execution_count": 24,
   "metadata": {
    "collapsed": true
   },
   "outputs": [],
   "source": [
    "browser=webdriver.Chrome(path_to_web_driver)\n",
    "browser.get('https://www.bing.com/news')\n",
    "search=browser.find_element_by_name('q')\n",
    "search.send_keys(\"toto\")\n",
    "search.send_keys(Keys.RETURN)"
   ]
  },
  {
   "cell_type": "code",
   "execution_count": 25,
   "metadata": {
    "collapsed": true
   },
   "outputs": [],
   "source": [
    "links=browser.find_elements_by_xpath(\"//div/a[@class='title'][@href]\")"
   ]
  },
  {
   "cell_type": "code",
   "execution_count": 26,
   "metadata": {},
   "outputs": [
    {
     "data": {
      "text/plain": [
       "[<selenium.webdriver.remote.webelement.WebElement (session=\"8b73a002f7b953c85ddf0ac17a387f16\", element=\"0.29265173767929853-1\")>,\n",
       " <selenium.webdriver.remote.webelement.WebElement (session=\"8b73a002f7b953c85ddf0ac17a387f16\", element=\"0.29265173767929853-2\")>,\n",
       " <selenium.webdriver.remote.webelement.WebElement (session=\"8b73a002f7b953c85ddf0ac17a387f16\", element=\"0.29265173767929853-3\")>,\n",
       " <selenium.webdriver.remote.webelement.WebElement (session=\"8b73a002f7b953c85ddf0ac17a387f16\", element=\"0.29265173767929853-4\")>,\n",
       " <selenium.webdriver.remote.webelement.WebElement (session=\"8b73a002f7b953c85ddf0ac17a387f16\", element=\"0.29265173767929853-5\")>,\n",
       " <selenium.webdriver.remote.webelement.WebElement (session=\"8b73a002f7b953c85ddf0ac17a387f16\", element=\"0.29265173767929853-6\")>,\n",
       " <selenium.webdriver.remote.webelement.WebElement (session=\"8b73a002f7b953c85ddf0ac17a387f16\", element=\"0.29265173767929853-7\")>,\n",
       " <selenium.webdriver.remote.webelement.WebElement (session=\"8b73a002f7b953c85ddf0ac17a387f16\", element=\"0.29265173767929853-8\")>,\n",
       " <selenium.webdriver.remote.webelement.WebElement (session=\"8b73a002f7b953c85ddf0ac17a387f16\", element=\"0.29265173767929853-9\")>,\n",
       " <selenium.webdriver.remote.webelement.WebElement (session=\"8b73a002f7b953c85ddf0ac17a387f16\", element=\"0.29265173767929853-10\")>,\n",
       " <selenium.webdriver.remote.webelement.WebElement (session=\"8b73a002f7b953c85ddf0ac17a387f16\", element=\"0.29265173767929853-11\")>,\n",
       " <selenium.webdriver.remote.webelement.WebElement (session=\"8b73a002f7b953c85ddf0ac17a387f16\", element=\"0.29265173767929853-12\")>,\n",
       " <selenium.webdriver.remote.webelement.WebElement (session=\"8b73a002f7b953c85ddf0ac17a387f16\", element=\"0.29265173767929853-13\")>,\n",
       " <selenium.webdriver.remote.webelement.WebElement (session=\"8b73a002f7b953c85ddf0ac17a387f16\", element=\"0.29265173767929853-14\")>,\n",
       " <selenium.webdriver.remote.webelement.WebElement (session=\"8b73a002f7b953c85ddf0ac17a387f16\", element=\"0.29265173767929853-15\")>,\n",
       " <selenium.webdriver.remote.webelement.WebElement (session=\"8b73a002f7b953c85ddf0ac17a387f16\", element=\"0.29265173767929853-16\")>,\n",
       " <selenium.webdriver.remote.webelement.WebElement (session=\"8b73a002f7b953c85ddf0ac17a387f16\", element=\"0.29265173767929853-17\")>,\n",
       " <selenium.webdriver.remote.webelement.WebElement (session=\"8b73a002f7b953c85ddf0ac17a387f16\", element=\"0.29265173767929853-18\")>,\n",
       " <selenium.webdriver.remote.webelement.WebElement (session=\"8b73a002f7b953c85ddf0ac17a387f16\", element=\"0.29265173767929853-19\")>,\n",
       " <selenium.webdriver.remote.webelement.WebElement (session=\"8b73a002f7b953c85ddf0ac17a387f16\", element=\"0.29265173767929853-20\")>]"
      ]
     },
     "execution_count": 26,
     "metadata": {},
     "output_type": "execute_result"
    }
   ],
   "source": [
    "links"
   ]
  },
  {
   "cell_type": "code",
   "execution_count": 27,
   "metadata": {},
   "outputs": [
    {
     "data": {
      "text/plain": [
       "20"
      ]
     },
     "execution_count": 27,
     "metadata": {},
     "output_type": "execute_result"
    }
   ],
   "source": [
    "\n",
    "results = []\n",
    "for link in links:\n",
    "    url = link.get_attribute('href')\n",
    "    results.append(url)\n",
    "\n",
    "len(results)\n"
   ]
  },
  {
   "cell_type": "code",
   "execution_count": 29,
   "metadata": {},
   "outputs": [
    {
     "data": {
      "text/plain": [
       "['https://le10sport.com/formule1/formule-1-toto-wolff-evoque-ouvertement-lavenir-de-max-verstappen-330722',\n",
       " 'http://motorsport.nextgen-auto.com/Toto-Wolff-et-Maurizio-Arrivabene-se-felicitent-d-une-entente-cordiale,120031.html',\n",
       " 'http://www.eurosport.fr/formule-1/grand-prix-de-belgique/2017/toto-wolff-mercedes-perez-a-fait-nimporte-quoi_sto6305871/story.shtml',\n",
       " 'http://www.autohebdo.fr/f1/actualites/toto-wolff-dement-des-discussions-entre-mercedes-et-vettel-188252.html',\n",
       " 'https://www.france.tv/france-2/telematin-suite/239477-le-son-d-alex-toto.html',\n",
       " 'http://www.icilome.com/nouvelles/news.asp?id=0&idnews=838270',\n",
       " 'http://www.eurosport.fr/formule-1/grand-prix-d-italie/2017/wolff-mercedes-redoute-singapour-je-prefere-voir-le-verre-a-moitie-vide-quant-a-nos-chances_sto6317520/story.shtml',\n",
       " 'http://motorsport.nextgen-auto.com/Ocon-Je-ne-vais-pas-faire-de-betises-au-depart-il-y-a-un-boss-devant,120083.html',\n",
       " 'https://le10sport.com/football/mercato/mercato-arsenal-wenger-raconte-les-hesitations-pour-son-avenir-330721',\n",
       " 'https://fr.motorsport.com/f1/news/wolff-rencontre-verstappen-mercedes-948709/',\n",
       " 'http://www.leberry.fr/sancoins/sports/rugby/2017/09/03/les-rugbymen-berruyers-ont-souffert-avec-les-pompiers-de-sancoins-en-images_12534830.html',\n",
       " 'http://www.autohebdo.fr/f1/breves/verstappen-en-discussions-avec-mercedes-188442.html',\n",
       " 'http://www.petitbleu.fr/article/2017/09/02/75344-laurent-travers-etre-aime-fait-partie-identite-racing.html',\n",
       " 'https://fr.motorsport.com/f1/news/ocon-vitesse-pointe-resister-ferrari-948660/',\n",
       " 'http://auto.lapresse.ca/course-automobile/201709/01/01-5129608-mercedes-offre-une-prolongation-de-contrat-au-pilote-valtteri-bottas-.php',\n",
       " 'http://www.actuj.com/2017-08/sport/5595-football-l-hapoel-beersheva-tout-pres-du-graal',\n",
       " 'http://www.courrier-picard.fr/53678/article/2017-09-01/kelly-legros-demissionne-du-conseil-municipal-de-peronne',\n",
       " 'http://www.20min.ch/ro/sports/automoto/story/19759774',\n",
       " 'http://www.lexpress.fr/actualites/1/sport/gp-d-italie-mercedes-en-tete-mais-ferrari-se-rapproche-apres-les-essais-libres-1-et-2_1939785.html',\n",
       " 'http://www.critique-film.fr/le-pigeon/']"
      ]
     },
     "execution_count": 29,
     "metadata": {},
     "output_type": "execute_result"
    }
   ],
   "source": [
    "results"
   ]
  },
  {
   "cell_type": "code",
   "execution_count": 30,
   "metadata": {},
   "outputs": [
    {
     "name": "stdout",
     "output_type": "stream",
     "text": [
      "Score final : 3132 en 267 coups\n"
     ]
    }
   ],
   "source": [
    "from selenium import webdriver\n",
    "from selenium.webdriver.common.keys import Keys\n",
    "\n",
    "# on ouvre la page internet du jeu 2048\n",
    "\n",
    "browser = webdriver.Chrome(path_to_web_driver)\n",
    "browser.get('https://gabrielecirulli.github.io/2048/')\n",
    "\n",
    "# Ce qu'on va faire : une boucle qui répète inlassablement la même chose : haut / droite / bas / gauche\n",
    "\n",
    "# on commence par cliquer sur la page pour que les touches sachent \n",
    "browser.find_element_by_class_name('grid-container').click()\n",
    "grid = browser.find_element_by_tag_name('body')\n",
    "\n",
    "# pour savoir quels coups faire à quel moment, on crée un dictionnaire\n",
    "direction = {0: Keys.UP, 1: Keys.RIGHT, 2: Keys.DOWN, 3: Keys.LEFT}\n",
    "count = 0\n",
    "\n",
    "while True:\n",
    "    try: # on vérifie que le bouton \"Try again\" n'est pas là - sinon ça veut dire que le jeu est fini\n",
    "        retryButton = browser.find_element_by_link_text('Try again')\n",
    "        scoreElem = browser.find_element_by_class_name('score-container')\n",
    "        break\n",
    "    except:\n",
    "        #Do nothing.  Game is not over yet\n",
    "        pass\n",
    "    # on continue le jeu - on appuie sur la touche suivante pour le coup d'après\n",
    "    count += 1\n",
    "    grid.send_keys(direction[count % 4]) \n",
    "    time.sleep(0.1)\n",
    "\n",
    "print('Score final : {} en {} coups'.format(scoreElem.text, count))    \n",
    "browser.quit()"
   ]
  },
  {
   "cell_type": "code",
   "execution_count": 31,
   "metadata": {
    "collapsed": true
   },
   "outputs": [],
   "source": [
    "def get_duo_table_soup(driver, url):\n",
    "    driver.get(url)\n",
    "\n",
    "    dropdown_button = driver.find_element_by_xpath(\n",
    "        '//*[@id=\"ctl00_MainContent_DropDownGameMode\"]/span/span[2]'\n",
    "    )\n",
    "    dropdown_button.click()\n",
    "    quickmatch_button = driver.find_element_by_xpath(\n",
    "        '//*[@id=\"ctl00_MainContent_DropDownGameMode_DropDown\"]/div/ul/li[4]'\n",
    "    )\n",
    "    quickmatch_button.click()\n",
    "    duos_button = driver.find_element_by_link_text('Duos')\n",
    "    duos_button.click()\n",
    "\n",
    "\n",
    "    # This while loop is not very useful because we actually need to wait\n",
    "    # for the data to be loaded afterwards.\n",
    "    game_mode = ''\n",
    "    while game_mode != 'Quick Match':\n",
    "        soup = BeautifulSoup(driver.page_source, 'html.parser')\n",
    "        game_mode = soup.find('div', {'id': 'ctl00_MainContent_DropDownGameMode'}).text.strip()\n",
    "    time.sleep(1)\n",
    "    soup = BeautifulSoup(driver.page_source, 'html.parser')\n",
    "    return soup.find(\n",
    "        'div',\n",
    "        {'id': 'winRateWithOtherHeroes'}\n",
    "    )"
   ]
  },
  {
   "cell_type": "code",
   "execution_count": 32,
   "metadata": {},
   "outputs": [
    {
     "ename": "NameError",
     "evalue": "name 'df_winrate' is not defined",
     "output_type": "error",
     "traceback": [
      "\u001b[0;31m---------------------------------------------------------------------------\u001b[0m",
      "\u001b[0;31mNameError\u001b[0m                                 Traceback (most recent call last)",
      "\u001b[0;32m<ipython-input-32-bf9bbfbb4c44>\u001b[0m in \u001b[0;36m<module>\u001b[0;34m()\u001b[0m\n\u001b[1;32m      7\u001b[0m \u001b[0;34m\u001b[0m\u001b[0m\n\u001b[1;32m      8\u001b[0m \u001b[0mdf_duos\u001b[0m \u001b[0;34m=\u001b[0m \u001b[0;32mNone\u001b[0m\u001b[0;34m\u001b[0m\u001b[0m\n\u001b[0;32m----> 9\u001b[0;31m \u001b[0;32mfor\u001b[0m \u001b[0mhero\u001b[0m \u001b[0;32min\u001b[0m \u001b[0mlist\u001b[0m\u001b[0;34m(\u001b[0m\u001b[0mdf_winrate\u001b[0m\u001b[0;34m.\u001b[0m\u001b[0mindex\u001b[0m\u001b[0;34m)\u001b[0m\u001b[0;34m:\u001b[0m\u001b[0;34m\u001b[0m\u001b[0m\n\u001b[0m\u001b[1;32m     10\u001b[0m     \u001b[0mprint\u001b[0m\u001b[0;34m(\u001b[0m\u001b[0mhero\u001b[0m\u001b[0;34m)\u001b[0m\u001b[0;34m\u001b[0m\u001b[0m\n\u001b[1;32m     11\u001b[0m     \u001b[0murl\u001b[0m \u001b[0;34m=\u001b[0m \u001b[0;34m'https://www.hotslogs.com/Sitewide/HeroDetails?Hero='\u001b[0m \u001b[0;34m+\u001b[0m \u001b[0mhero\u001b[0m\u001b[0;34m\u001b[0m\u001b[0m\n",
      "\u001b[0;31mNameError\u001b[0m: name 'df_winrate' is not defined"
     ]
    }
   ],
   "source": [
    "from selenium import webdriver\n",
    "from selenium.webdriver.common.keys import Keys\n",
    "\n",
    "# on ouvre la page internet du jeu 2048\n",
    "\n",
    "driver = webdriver.Chrome(path_to_web_driver)\n",
    "\n",
    "df_duos = None\n",
    "for hero in list(df_winrate.index):\n",
    "    print(hero)\n",
    "    url = 'https://www.hotslogs.com/Sitewide/HeroDetails?Hero=' + hero\n",
    "    table_soup = get_duo_table_soup(driver, url)\n",
    "    header, body = parse_hotslogs_table(table_soup)\n",
    "    header = ['Hero'] + header\n",
    "    body = [[hero] + row for row in body]\n",
    "    df = pd.DataFrame(data=body, columns=header)\n",
    "    df_duos = pd.concat([df_duos, df])\n",
    "driver.close()"
   ]
  },
  {
   "cell_type": "code",
   "execution_count": null,
   "metadata": {
    "collapsed": true
   },
   "outputs": [],
   "source": []
  }
 ],
 "metadata": {
  "kernelspec": {
   "display_name": "Python 3",
   "language": "python",
   "name": "python3"
  },
  "language_info": {
   "codemirror_mode": {
    "name": "ipython",
    "version": 3
   },
   "file_extension": ".py",
   "mimetype": "text/x-python",
   "name": "python",
   "nbconvert_exporter": "python",
   "pygments_lexer": "ipython3",
   "version": "3.5.2"
  }
 },
 "nbformat": 4,
 "nbformat_minor": 2
}
