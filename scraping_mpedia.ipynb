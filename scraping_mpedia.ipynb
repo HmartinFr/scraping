{
 "cells": [
  {
   "cell_type": "code",
   "execution_count": 64,
   "metadata": {
    "collapsed": true
   },
   "outputs": [],
   "source": [
    "import urllib\n",
    "import bs4\n",
    "import pandas\n",
    "import re"
   ]
  },
  {
   "cell_type": "code",
   "execution_count": 6,
   "metadata": {
    "collapsed": true
   },
   "outputs": [],
   "source": [
    "url_questions=\"http://www.mpedia.fr/question.html\""
   ]
  },
  {
   "cell_type": "code",
   "execution_count": 8,
   "metadata": {},
   "outputs": [],
   "source": [
    "request_text=urllib.request.urlopen(url_questions).read()"
   ]
  },
  {
   "cell_type": "code",
   "execution_count": 9,
   "metadata": {
    "collapsed": true
   },
   "outputs": [
    {
     "name": "stdout",
     "output_type": "stream",
     "text": [
      "b'<!DOCTYPE html PUBLIC \"-//W3C//DTD XHTML 1.0 Transitional//EN\" \"http://www.w3.org/TR/xhtml1/DTD/xhtml1-transitional.dtd\">\\n<html xmlns=\"http://www.w3.org/1999/xhtml\" xmlns:fb=\"http://ogp.me/ns/fb#\">\\n<head>\\n\\t<title>Questions/r\\xc3\\xa9ponses, les p\\xc3\\xa9diatres \\xc3\\xa0 votre \\xc3\\xa9coute  - mpedia.fr</title>\\n\\t<meta name=\"keywords\" content=\"\" />\\n    <meta name=\"Description\" content=\"\" />\\n        \\t<meta name=\"robots\" content=\"noindex,follow\" />\\n    \\t<meta http-equiv=\"content-type\" content=\"text/html; charset=utf-8\" />\\n\\t<link rel=\"shortcut icon\" href=\"./favico.ico\" type=\"image/x-icon\" />\\n\\t\\t<link rel=\"stylesheet\" type=\"text/css\" href=\"http://www.mpedia.fr/medias/css/style.css\"/>\\n\\t\\t<link rel=\"stylesheet\" type=\"text/css\" href=\"http://www.mpedia.fr/medias/css/../js/jquery-ui/jquery-ui-1.8.18.custom.css\"/>\\n\\t\\t<link rel=\"stylesheet\" type=\"text/css\" href=\"http://www.mpedia.fr/medias/css/jquery.fancybox.css?v=2.1.5\"/>\\n\\t\\t<link rel=\"stylesheet\" type=\"text/css\" href=\"http://www.mpedia.fr/medias/css/rubrique.css\"/>\\n\\t\\t\\t<link'\n"
     ]
    }
   ],
   "source": [
    "print(request_text[:1000])"
   ]
  },
  {
   "cell_type": "code",
   "execution_count": 13,
   "metadata": {
    "collapsed": true
   },
   "outputs": [],
   "source": [
    "page=bs4.BeautifulSoup(request_text,\"lxml\")"
   ]
  },
  {
   "cell_type": "code",
   "execution_count": 29,
   "metadata": {},
   "outputs": [],
   "source": [
    "sommaire=page.findAll('a',{'class' : 'theme'})"
   ]
  },
  {
   "cell_type": "code",
   "execution_count": 30,
   "metadata": {},
   "outputs": [
    {
     "name": "stdout",
     "output_type": "stream",
     "text": [
      "[<a class=\"theme\" href=\"question-theme-4-grossesse.html\"><span><strong>Grossesse</strong> (7)</span></a>, <a class=\"theme\" href=\"question-theme-6-naissance.html\"><span><strong>Naissance</strong> (0)</span></a>, <a class=\"theme\" href=\"question-theme-10-allaitement.html\"><span><strong>Allaitement</strong> (45)</span></a>, <a class=\"theme\" href=\"question-theme-9-laits-infantiles.html\"><span><strong>Laits infantiles</strong> (47)</span></a>, <a class=\"theme\" href=\"question-theme-13-diversification.html\"><span><strong>Diversification</strong> (49)</span></a>, <a class=\"theme\" href=\"question-theme-11-troubles-digestifs.html\"><span><strong>Troubles digestifs</strong> (99)</span></a>, <a class=\"theme\" href=\"question-theme-19-troubles-alimentaires.html\"><span><strong>Troubles alimentaires</strong> (20)</span></a>, <a class=\"theme\" href=\"question-theme-12-allergies.html\"><span><strong>Allergies</strong> (6)</span></a>, <a class=\"theme\" href=\"question-theme-14-sommeil.html\"><span><strong>Sommeil</strong> (124)</span></a>, <a class=\"theme\" href=\"question-theme-7-sante.html\"><span><strong>Santé</strong> (115)</span></a>, <a class=\"theme\" href=\"question-theme-2-developpement.html\"><span><strong>Développement</strong> (34)</span></a>, <a class=\"theme\" href=\"question-theme-3-psychologie.html\"><span><strong>Psychologie</strong> (44)</span></a>, <a class=\"theme\" href=\"question-theme-17-proprete.html\"><span><strong>Propreté</strong> (6)</span></a>, <a class=\"theme\" href=\"question-theme-18-quotidien-pratique.html\"><span><strong>Quotidien/pratique</strong> (14)</span></a>, <a class=\"theme\" href=\"question-theme-16-soins-toilette.html\"><span><strong>Soins/toilette</strong> (9)</span></a>, <a class=\"theme\" href=\"question-theme-15-voyage.html\"><span><strong>Voyage</strong> (6)</span></a>, <a class=\"theme\" href=\"question-theme-8-news.html\"><span><strong>News</strong> (0)</span></a>, <a class=\"theme\" href=\"question-theme-1-alimentation.html\"><span><strong>Alimentation</strong> (38)</span></a>, <a class=\"theme\" href=\"poser-une-question.html\"><span><strong>Posez votre question aux pédiatres</strong></span></a>]\n"
     ]
    }
   ],
   "source": [
    "print(sommaire)"
   ]
  },
  {
   "cell_type": "code",
   "execution_count": 34,
   "metadata": {},
   "outputs": [
    {
     "name": "stdout",
     "output_type": "stream",
     "text": [
      "<a class=\"theme\" href=\"question-theme-4-grossesse.html\"><span><strong>Grossesse</strong> (7)</span></a> \n",
      " \n",
      "question-theme-4-grossesse.html\n",
      "Grossesse (7)\n",
      "\n",
      " ---------\n",
      "<a class=\"theme\" href=\"question-theme-6-naissance.html\"><span><strong>Naissance</strong> (0)</span></a> \n",
      " \n",
      "question-theme-6-naissance.html\n",
      "Naissance (0)\n",
      "\n",
      " ---------\n",
      "<a class=\"theme\" href=\"question-theme-10-allaitement.html\"><span><strong>Allaitement</strong> (45)</span></a> \n",
      " \n",
      "question-theme-10-allaitement.html\n",
      "Allaitement (45)\n",
      "\n",
      " ---------\n",
      "<a class=\"theme\" href=\"question-theme-9-laits-infantiles.html\"><span><strong>Laits infantiles</strong> (47)</span></a> \n",
      " \n",
      "question-theme-9-laits-infantiles.html\n",
      "Laits infantiles (47)\n",
      "\n",
      " ---------\n",
      "<a class=\"theme\" href=\"question-theme-13-diversification.html\"><span><strong>Diversification</strong> (49)</span></a> \n",
      " \n",
      "question-theme-13-diversification.html\n",
      "Diversification (49)\n",
      "\n",
      " ---------\n",
      "<a class=\"theme\" href=\"question-theme-11-troubles-digestifs.html\"><span><strong>Troubles digestifs</strong> (99)</span></a> \n",
      " \n",
      "question-theme-11-troubles-digestifs.html\n",
      "Troubles digestifs (99)\n",
      "\n",
      " ---------\n",
      "<a class=\"theme\" href=\"question-theme-19-troubles-alimentaires.html\"><span><strong>Troubles alimentaires</strong> (20)</span></a> \n",
      " \n",
      "question-theme-19-troubles-alimentaires.html\n",
      "Troubles alimentaires (20)\n",
      "\n",
      " ---------\n",
      "<a class=\"theme\" href=\"question-theme-12-allergies.html\"><span><strong>Allergies</strong> (6)</span></a> \n",
      " \n",
      "question-theme-12-allergies.html\n",
      "Allergies (6)\n",
      "\n",
      " ---------\n",
      "<a class=\"theme\" href=\"question-theme-14-sommeil.html\"><span><strong>Sommeil</strong> (124)</span></a> \n",
      " \n",
      "question-theme-14-sommeil.html\n",
      "Sommeil (124)\n",
      "\n",
      " ---------\n",
      "<a class=\"theme\" href=\"question-theme-7-sante.html\"><span><strong>Santé</strong> (115)</span></a> \n",
      " \n",
      "question-theme-7-sante.html\n",
      "Santé (115)\n",
      "\n",
      " ---------\n",
      "<a class=\"theme\" href=\"question-theme-2-developpement.html\"><span><strong>Développement</strong> (34)</span></a> \n",
      " \n",
      "question-theme-2-developpement.html\n",
      "Développement (34)\n",
      "\n",
      " ---------\n",
      "<a class=\"theme\" href=\"question-theme-3-psychologie.html\"><span><strong>Psychologie</strong> (44)</span></a> \n",
      " \n",
      "question-theme-3-psychologie.html\n",
      "Psychologie (44)\n",
      "\n",
      " ---------\n",
      "<a class=\"theme\" href=\"question-theme-17-proprete.html\"><span><strong>Propreté</strong> (6)</span></a> \n",
      " \n",
      "question-theme-17-proprete.html\n",
      "Propreté (6)\n",
      "\n",
      " ---------\n",
      "<a class=\"theme\" href=\"question-theme-18-quotidien-pratique.html\"><span><strong>Quotidien/pratique</strong> (14)</span></a> \n",
      " \n",
      "question-theme-18-quotidien-pratique.html\n",
      "Quotidien/pratique (14)\n",
      "\n",
      " ---------\n",
      "<a class=\"theme\" href=\"question-theme-16-soins-toilette.html\"><span><strong>Soins/toilette</strong> (9)</span></a> \n",
      " \n",
      "question-theme-16-soins-toilette.html\n",
      "Soins/toilette (9)\n",
      "\n",
      " ---------\n",
      "<a class=\"theme\" href=\"question-theme-15-voyage.html\"><span><strong>Voyage</strong> (6)</span></a> \n",
      " \n",
      "question-theme-15-voyage.html\n",
      "Voyage (6)\n",
      "\n",
      " ---------\n",
      "<a class=\"theme\" href=\"question-theme-8-news.html\"><span><strong>News</strong> (0)</span></a> \n",
      " \n",
      "question-theme-8-news.html\n",
      "News (0)\n",
      "\n",
      " ---------\n",
      "<a class=\"theme\" href=\"question-theme-1-alimentation.html\"><span><strong>Alimentation</strong> (38)</span></a> \n",
      " \n",
      "question-theme-1-alimentation.html\n",
      "Alimentation (38)\n",
      "\n",
      " ---------\n",
      "<a class=\"theme\" href=\"poser-une-question.html\"><span><strong>Posez votre question aux pédiatres</strong></span></a> \n",
      " \n",
      "poser-une-question.html\n",
      "Posez votre question aux pédiatres\n",
      "\n",
      " ---------\n"
     ]
    }
   ],
   "source": [
    "for item in sommaire :\n",
    "    print(item, \"\\n \")\n",
    "\n",
    "    print(item.get(\"href\"))\n",
    "    print(item.getText())\n",
    "    \n",
    "    print(\"\\n ---------\")\n",
    "    "
   ]
  },
  {
   "cell_type": "code",
   "execution_count": 222,
   "metadata": {},
   "outputs": [],
   "source": [
    "liste_categories=[]\n",
    "liste_urls=[]\n",
    "liste_nombre_articles=[]\n",
    "\n",
    "for item in sommaire :\n",
    "\n",
    "    i+=1\n",
    "    liste_categories.append(item.getText())\n",
    "    liste_urls.append(item.get(\"href\"))\n",
    "\n",
    "liste_urls=liste_urls[:-1]\n",
    "liste_categories=liste_categories[:-1]\n",
    "\n",
    "for i,item in enumerate(liste_urls):\n",
    "    liste_urls[i]=\"http://www.mpedia.fr/\"+liste_urls[i]\n",
    "\n",
    "for i,item in enumerate(liste_categories):\n",
    "    liste_nombre_articles.append(re.split('(\\d+)',item)[1])\n",
    "    liste_categories[i]=re.split('(\\d+)',item)[0]\n",
    "    liste_categories[i]=re.split(' \\(',liste_categories[i])[0]\n",
    "  "
   ]
  },
  {
   "cell_type": "code",
   "execution_count": 223,
   "metadata": {},
   "outputs": [],
   "source": [
    "df=pandas.DataFrame.from_dict({\"Catégories\":liste_categories,\"Nombre d'articles\":liste_nombre_articles, \"Lien\":liste_urls})"
   ]
  },
  {
   "cell_type": "code",
   "execution_count": 224,
   "metadata": {},
   "outputs": [
    {
     "data": {
      "text/html": [
       "<div>\n",
       "<style>\n",
       "    .dataframe thead tr:only-child th {\n",
       "        text-align: right;\n",
       "    }\n",
       "\n",
       "    .dataframe thead th {\n",
       "        text-align: left;\n",
       "    }\n",
       "\n",
       "    .dataframe tbody tr th {\n",
       "        vertical-align: top;\n",
       "    }\n",
       "</style>\n",
       "<table border=\"1\" class=\"dataframe\">\n",
       "  <thead>\n",
       "    <tr style=\"text-align: right;\">\n",
       "      <th></th>\n",
       "      <th>Catégories</th>\n",
       "      <th>Lien</th>\n",
       "      <th>Nombre d'articles</th>\n",
       "    </tr>\n",
       "  </thead>\n",
       "  <tbody>\n",
       "    <tr>\n",
       "      <th>0</th>\n",
       "      <td>Grossesse</td>\n",
       "      <td>http://www.mpedia.fr/question-theme-4-grossess...</td>\n",
       "      <td>7</td>\n",
       "    </tr>\n",
       "    <tr>\n",
       "      <th>1</th>\n",
       "      <td>Naissance</td>\n",
       "      <td>http://www.mpedia.fr/question-theme-6-naissanc...</td>\n",
       "      <td>0</td>\n",
       "    </tr>\n",
       "    <tr>\n",
       "      <th>2</th>\n",
       "      <td>Allaitement</td>\n",
       "      <td>http://www.mpedia.fr/question-theme-10-allaite...</td>\n",
       "      <td>45</td>\n",
       "    </tr>\n",
       "    <tr>\n",
       "      <th>3</th>\n",
       "      <td>Laits infantiles</td>\n",
       "      <td>http://www.mpedia.fr/question-theme-9-laits-in...</td>\n",
       "      <td>47</td>\n",
       "    </tr>\n",
       "    <tr>\n",
       "      <th>4</th>\n",
       "      <td>Diversification</td>\n",
       "      <td>http://www.mpedia.fr/question-theme-13-diversi...</td>\n",
       "      <td>49</td>\n",
       "    </tr>\n",
       "    <tr>\n",
       "      <th>5</th>\n",
       "      <td>Troubles digestifs</td>\n",
       "      <td>http://www.mpedia.fr/question-theme-11-trouble...</td>\n",
       "      <td>99</td>\n",
       "    </tr>\n",
       "    <tr>\n",
       "      <th>6</th>\n",
       "      <td>Troubles alimentaires</td>\n",
       "      <td>http://www.mpedia.fr/question-theme-19-trouble...</td>\n",
       "      <td>20</td>\n",
       "    </tr>\n",
       "    <tr>\n",
       "      <th>7</th>\n",
       "      <td>Allergies</td>\n",
       "      <td>http://www.mpedia.fr/question-theme-12-allergi...</td>\n",
       "      <td>6</td>\n",
       "    </tr>\n",
       "    <tr>\n",
       "      <th>8</th>\n",
       "      <td>Sommeil</td>\n",
       "      <td>http://www.mpedia.fr/question-theme-14-sommeil...</td>\n",
       "      <td>124</td>\n",
       "    </tr>\n",
       "    <tr>\n",
       "      <th>9</th>\n",
       "      <td>Santé</td>\n",
       "      <td>http://www.mpedia.fr/question-theme-7-sante.html</td>\n",
       "      <td>115</td>\n",
       "    </tr>\n",
       "    <tr>\n",
       "      <th>10</th>\n",
       "      <td>Développement</td>\n",
       "      <td>http://www.mpedia.fr/question-theme-2-developp...</td>\n",
       "      <td>34</td>\n",
       "    </tr>\n",
       "    <tr>\n",
       "      <th>11</th>\n",
       "      <td>Psychologie</td>\n",
       "      <td>http://www.mpedia.fr/question-theme-3-psycholo...</td>\n",
       "      <td>44</td>\n",
       "    </tr>\n",
       "    <tr>\n",
       "      <th>12</th>\n",
       "      <td>Propreté</td>\n",
       "      <td>http://www.mpedia.fr/question-theme-17-propret...</td>\n",
       "      <td>6</td>\n",
       "    </tr>\n",
       "    <tr>\n",
       "      <th>13</th>\n",
       "      <td>Quotidien/pratique</td>\n",
       "      <td>http://www.mpedia.fr/question-theme-18-quotidi...</td>\n",
       "      <td>14</td>\n",
       "    </tr>\n",
       "    <tr>\n",
       "      <th>14</th>\n",
       "      <td>Soins/toilette</td>\n",
       "      <td>http://www.mpedia.fr/question-theme-16-soins-t...</td>\n",
       "      <td>9</td>\n",
       "    </tr>\n",
       "    <tr>\n",
       "      <th>15</th>\n",
       "      <td>Voyage</td>\n",
       "      <td>http://www.mpedia.fr/question-theme-15-voyage....</td>\n",
       "      <td>6</td>\n",
       "    </tr>\n",
       "    <tr>\n",
       "      <th>16</th>\n",
       "      <td>News</td>\n",
       "      <td>http://www.mpedia.fr/question-theme-8-news.html</td>\n",
       "      <td>0</td>\n",
       "    </tr>\n",
       "    <tr>\n",
       "      <th>17</th>\n",
       "      <td>Alimentation</td>\n",
       "      <td>http://www.mpedia.fr/question-theme-1-alimenta...</td>\n",
       "      <td>38</td>\n",
       "    </tr>\n",
       "  </tbody>\n",
       "</table>\n",
       "</div>"
      ],
      "text/plain": [
       "               Catégories                                               Lien  \\\n",
       "0               Grossesse  http://www.mpedia.fr/question-theme-4-grossess...   \n",
       "1               Naissance  http://www.mpedia.fr/question-theme-6-naissanc...   \n",
       "2             Allaitement  http://www.mpedia.fr/question-theme-10-allaite...   \n",
       "3        Laits infantiles  http://www.mpedia.fr/question-theme-9-laits-in...   \n",
       "4         Diversification  http://www.mpedia.fr/question-theme-13-diversi...   \n",
       "5      Troubles digestifs  http://www.mpedia.fr/question-theme-11-trouble...   \n",
       "6   Troubles alimentaires  http://www.mpedia.fr/question-theme-19-trouble...   \n",
       "7               Allergies  http://www.mpedia.fr/question-theme-12-allergi...   \n",
       "8                 Sommeil  http://www.mpedia.fr/question-theme-14-sommeil...   \n",
       "9                   Santé   http://www.mpedia.fr/question-theme-7-sante.html   \n",
       "10          Développement  http://www.mpedia.fr/question-theme-2-developp...   \n",
       "11            Psychologie  http://www.mpedia.fr/question-theme-3-psycholo...   \n",
       "12               Propreté  http://www.mpedia.fr/question-theme-17-propret...   \n",
       "13     Quotidien/pratique  http://www.mpedia.fr/question-theme-18-quotidi...   \n",
       "14         Soins/toilette  http://www.mpedia.fr/question-theme-16-soins-t...   \n",
       "15                 Voyage  http://www.mpedia.fr/question-theme-15-voyage....   \n",
       "16                   News    http://www.mpedia.fr/question-theme-8-news.html   \n",
       "17           Alimentation  http://www.mpedia.fr/question-theme-1-alimenta...   \n",
       "\n",
       "   Nombre d'articles  \n",
       "0                  7  \n",
       "1                  0  \n",
       "2                 45  \n",
       "3                 47  \n",
       "4                 49  \n",
       "5                 99  \n",
       "6                 20  \n",
       "7                  6  \n",
       "8                124  \n",
       "9                115  \n",
       "10                34  \n",
       "11                44  \n",
       "12                 6  \n",
       "13                14  \n",
       "14                 9  \n",
       "15                 6  \n",
       "16                 0  \n",
       "17                38  "
      ]
     },
     "execution_count": 224,
     "metadata": {},
     "output_type": "execute_result"
    }
   ],
   "source": [
    "df"
   ]
  },
  {
   "cell_type": "code",
   "execution_count": 210,
   "metadata": {
    "collapsed": true
   },
   "outputs": [],
   "source": [
    "import selenium"
   ]
  },
  {
   "cell_type": "code",
   "execution_count": 211,
   "metadata": {
    "collapsed": true
   },
   "outputs": [],
   "source": [
    "path_to_web_driver=\"./chromedriver\""
   ]
  },
  {
   "cell_type": "code",
   "execution_count": 212,
   "metadata": {
    "collapsed": true
   },
   "outputs": [],
   "source": [
    "import os, sys\n",
    "from pyquickhelper.filehelper import download, unzip_files\n",
    "if \"win\" in sys.platform:\n",
    "    if not os.path.exists(\"chromedriver_win32.zip\"):\n",
    "        d = download(\"http://chromedriver.storage.googleapis.com/2.24/chromedriver_win32.zip\")\n",
    "    if not os.path.exists(\"chromedriver.exe\"):\n",
    "        unzip_files(\"chromedriver_win32.zip\", where_to=\".\")\n",
    "elif sys.platform.startswith(\"linux\"):\n",
    "    if not os.path.exists(\"chromedriver_linux64.zip\"):\n",
    "        d = download(\"http://chromedriver.storage.googleapis.com/2.24/chromedriver_linux64.zip\")\n",
    "    if not os.path.exists(\"chromedriver\"):\n",
    "        unzip_files(\"chromedriver_linux64.zip\", where_to=\".\")\n",
    "elif sys.platform.startswith(\"darwin\"):\n",
    "    if not os.path.exists(\"chromedriver_mac64.zip\"):\n",
    "        d = download(\"http://chromedriver.storage.googleapis.com/2.24/chromedriver_mac64.zip\")\n",
    "    if not os.path.exists(\"chromedriver\"):\n",
    "        unzip_files(\"chromedriver_mac64.zip\", where_to=\".\")        "
   ]
  },
  {
   "cell_type": "code",
   "execution_count": 238,
   "metadata": {
    "collapsed": true
   },
   "outputs": [],
   "source": [
    "import time\n",
    "\n",
    "from selenium import webdriver\n",
    "from selenium.webdriver.common.keys import Keys "
   ]
  },
  {
   "cell_type": "code",
   "execution_count": 234,
   "metadata": {},
   "outputs": [
    {
     "data": {
      "text/plain": [
       "'http://www.mpedia.fr/question-theme-6-naissance.html'"
      ]
     },
     "execution_count": 234,
     "metadata": {},
     "output_type": "execute_result"
    }
   ],
   "source": [
    "df.Lien[1]"
   ]
  },
  {
   "cell_type": "code",
   "execution_count": 239,
   "metadata": {
    "collapsed": true
   },
   "outputs": [],
   "source": [
    "browser=webdriver.Chrome(path_to_web_driver)\n",
    "browser.get(df.Lien[1])\n",
    "#search=browser.find_element_by_name('q')\n",
    "#search.send_keys(\"toto\")\n",
    "#search.send_keys(Keys.RETURN)"
   ]
  },
  {
   "cell_type": "code",
   "execution_count": 229,
   "metadata": {
    "collapsed": true
   },
   "outputs": [],
   "source": [
    "links=browser.find_elements_by_xpath(\"//div/a[@class='title'][@href]\")"
   ]
  },
  {
   "cell_type": "code",
   "execution_count": 240,
   "metadata": {},
   "outputs": [
    {
     "ename": "AttributeError",
     "evalue": "'WebDriver' object has no attribute 'find_elements_by_class'",
     "output_type": "error",
     "traceback": [
      "\u001b[0;31m---------------------------------------------------------------------------\u001b[0m",
      "\u001b[0;31mAttributeError\u001b[0m                            Traceback (most recent call last)",
      "\u001b[0;32m<ipython-input-240-f412eb427a6a>\u001b[0m in \u001b[0;36m<module>\u001b[0;34m()\u001b[0m\n\u001b[0;32m----> 1\u001b[0;31m \u001b[0mlinks\u001b[0m\u001b[0;34m=\u001b[0m\u001b[0mbrowser\u001b[0m\u001b[0;34m.\u001b[0m\u001b[0mfind_elements_by_class\u001b[0m\u001b[0;34m(\u001b[0m\u001b[0;34m'title'\u001b[0m\u001b[0;34m)\u001b[0m\u001b[0;34m\u001b[0m\u001b[0m\n\u001b[0m",
      "\u001b[0;31mAttributeError\u001b[0m: 'WebDriver' object has no attribute 'find_elements_by_class'"
     ]
    }
   ],
   "source": [
    "links=browser.find_elements_by_class('title')"
   ]
  },
  {
   "cell_type": "code",
   "execution_count": 236,
   "metadata": {},
   "outputs": [
    {
     "data": {
      "text/plain": [
       "[]"
      ]
     },
     "execution_count": 236,
     "metadata": {},
     "output_type": "execute_result"
    }
   ],
   "source": [
    "links"
   ]
  },
  {
   "cell_type": "code",
   "execution_count": 27,
   "metadata": {},
   "outputs": [
    {
     "data": {
      "text/plain": [
       "20"
      ]
     },
     "execution_count": 27,
     "metadata": {},
     "output_type": "execute_result"
    }
   ],
   "source": [
    "\n",
    "results = []\n",
    "for link in links:\n",
    "    url = link.get_attribute('href')\n",
    "    results.append(url)\n",
    "\n",
    "len(results)\n"
   ]
  },
  {
   "cell_type": "code",
   "execution_count": 29,
   "metadata": {},
   "outputs": [
    {
     "data": {
      "text/plain": [
       "['https://le10sport.com/formule1/formule-1-toto-wolff-evoque-ouvertement-lavenir-de-max-verstappen-330722',\n",
       " 'http://motorsport.nextgen-auto.com/Toto-Wolff-et-Maurizio-Arrivabene-se-felicitent-d-une-entente-cordiale,120031.html',\n",
       " 'http://www.eurosport.fr/formule-1/grand-prix-de-belgique/2017/toto-wolff-mercedes-perez-a-fait-nimporte-quoi_sto6305871/story.shtml',\n",
       " 'http://www.autohebdo.fr/f1/actualites/toto-wolff-dement-des-discussions-entre-mercedes-et-vettel-188252.html',\n",
       " 'https://www.france.tv/france-2/telematin-suite/239477-le-son-d-alex-toto.html',\n",
       " 'http://www.icilome.com/nouvelles/news.asp?id=0&idnews=838270',\n",
       " 'http://www.eurosport.fr/formule-1/grand-prix-d-italie/2017/wolff-mercedes-redoute-singapour-je-prefere-voir-le-verre-a-moitie-vide-quant-a-nos-chances_sto6317520/story.shtml',\n",
       " 'http://motorsport.nextgen-auto.com/Ocon-Je-ne-vais-pas-faire-de-betises-au-depart-il-y-a-un-boss-devant,120083.html',\n",
       " 'https://le10sport.com/football/mercato/mercato-arsenal-wenger-raconte-les-hesitations-pour-son-avenir-330721',\n",
       " 'https://fr.motorsport.com/f1/news/wolff-rencontre-verstappen-mercedes-948709/',\n",
       " 'http://www.leberry.fr/sancoins/sports/rugby/2017/09/03/les-rugbymen-berruyers-ont-souffert-avec-les-pompiers-de-sancoins-en-images_12534830.html',\n",
       " 'http://www.autohebdo.fr/f1/breves/verstappen-en-discussions-avec-mercedes-188442.html',\n",
       " 'http://www.petitbleu.fr/article/2017/09/02/75344-laurent-travers-etre-aime-fait-partie-identite-racing.html',\n",
       " 'https://fr.motorsport.com/f1/news/ocon-vitesse-pointe-resister-ferrari-948660/',\n",
       " 'http://auto.lapresse.ca/course-automobile/201709/01/01-5129608-mercedes-offre-une-prolongation-de-contrat-au-pilote-valtteri-bottas-.php',\n",
       " 'http://www.actuj.com/2017-08/sport/5595-football-l-hapoel-beersheva-tout-pres-du-graal',\n",
       " 'http://www.courrier-picard.fr/53678/article/2017-09-01/kelly-legros-demissionne-du-conseil-municipal-de-peronne',\n",
       " 'http://www.20min.ch/ro/sports/automoto/story/19759774',\n",
       " 'http://www.lexpress.fr/actualites/1/sport/gp-d-italie-mercedes-en-tete-mais-ferrari-se-rapproche-apres-les-essais-libres-1-et-2_1939785.html',\n",
       " 'http://www.critique-film.fr/le-pigeon/']"
      ]
     },
     "execution_count": 29,
     "metadata": {},
     "output_type": "execute_result"
    }
   ],
   "source": [
    "results"
   ]
  },
  {
   "cell_type": "code",
   "execution_count": 30,
   "metadata": {},
   "outputs": [
    {
     "name": "stdout",
     "output_type": "stream",
     "text": [
      "Score final : 3132 en 267 coups\n"
     ]
    }
   ],
   "source": [
    "from selenium import webdriver\n",
    "from selenium.webdriver.common.keys import Keys\n",
    "\n",
    "# on ouvre la page internet du jeu 2048\n",
    "\n",
    "browser = webdriver.Chrome(path_to_web_driver)\n",
    "browser.get('https://gabrielecirulli.github.io/2048/')\n",
    "\n",
    "# Ce qu'on va faire : une boucle qui répète inlassablement la même chose : haut / droite / bas / gauche\n",
    "\n",
    "# on commence par cliquer sur la page pour que les touches sachent \n",
    "browser.find_element_by_class_name('grid-container').click()\n",
    "grid = browser.find_element_by_tag_name('body')\n",
    "\n",
    "# pour savoir quels coups faire à quel moment, on crée un dictionnaire\n",
    "direction = {0: Keys.UP, 1: Keys.RIGHT, 2: Keys.DOWN, 3: Keys.LEFT}\n",
    "count = 0\n",
    "\n",
    "while True:\n",
    "    try: # on vérifie que le bouton \"Try again\" n'est pas là - sinon ça veut dire que le jeu est fini\n",
    "        retryButton = browser.find_element_by_link_text('Try again')\n",
    "        scoreElem = browser.find_element_by_class_name('score-container')\n",
    "        break\n",
    "    except:\n",
    "        #Do nothing.  Game is not over yet\n",
    "        pass\n",
    "    # on continue le jeu - on appuie sur la touche suivante pour le coup d'après\n",
    "    count += 1\n",
    "    grid.send_keys(direction[count % 4]) \n",
    "    time.sleep(0.1)\n",
    "\n",
    "print('Score final : {} en {} coups'.format(scoreElem.text, count))    \n",
    "browser.quit()"
   ]
  },
  {
   "cell_type": "code",
   "execution_count": 31,
   "metadata": {
    "collapsed": true
   },
   "outputs": [],
   "source": [
    "def get_duo_table_soup(driver, url):\n",
    "    driver.get(url)\n",
    "\n",
    "    dropdown_button = driver.find_element_by_xpath(\n",
    "        '//*[@id=\"ctl00_MainContent_DropDownGameMode\"]/span/span[2]'\n",
    "    )\n",
    "    dropdown_button.click()\n",
    "    quickmatch_button = driver.find_element_by_xpath(\n",
    "        '//*[@id=\"ctl00_MainContent_DropDownGameMode_DropDown\"]/div/ul/li[4]'\n",
    "    )\n",
    "    quickmatch_button.click()\n",
    "    duos_button = driver.find_element_by_link_text('Duos')\n",
    "    duos_button.click()\n",
    "\n",
    "\n",
    "    # This while loop is not very useful because we actually need to wait\n",
    "    # for the data to be loaded afterwards.\n",
    "    game_mode = ''\n",
    "    while game_mode != 'Quick Match':\n",
    "        soup = BeautifulSoup(driver.page_source, 'html.parser')\n",
    "        game_mode = soup.find('div', {'id': 'ctl00_MainContent_DropDownGameMode'}).text.strip()\n",
    "    time.sleep(1)\n",
    "    soup = BeautifulSoup(driver.page_source, 'html.parser')\n",
    "    return soup.find(\n",
    "        'div',\n",
    "        {'id': 'winRateWithOtherHeroes'}\n",
    "    )"
   ]
  },
  {
   "cell_type": "code",
   "execution_count": 32,
   "metadata": {},
   "outputs": [
    {
     "ename": "NameError",
     "evalue": "name 'df_winrate' is not defined",
     "output_type": "error",
     "traceback": [
      "\u001b[0;31m---------------------------------------------------------------------------\u001b[0m",
      "\u001b[0;31mNameError\u001b[0m                                 Traceback (most recent call last)",
      "\u001b[0;32m<ipython-input-32-bf9bbfbb4c44>\u001b[0m in \u001b[0;36m<module>\u001b[0;34m()\u001b[0m\n\u001b[1;32m      7\u001b[0m \u001b[0;34m\u001b[0m\u001b[0m\n\u001b[1;32m      8\u001b[0m \u001b[0mdf_duos\u001b[0m \u001b[0;34m=\u001b[0m \u001b[0;32mNone\u001b[0m\u001b[0;34m\u001b[0m\u001b[0m\n\u001b[0;32m----> 9\u001b[0;31m \u001b[0;32mfor\u001b[0m \u001b[0mhero\u001b[0m \u001b[0;32min\u001b[0m \u001b[0mlist\u001b[0m\u001b[0;34m(\u001b[0m\u001b[0mdf_winrate\u001b[0m\u001b[0;34m.\u001b[0m\u001b[0mindex\u001b[0m\u001b[0;34m)\u001b[0m\u001b[0;34m:\u001b[0m\u001b[0;34m\u001b[0m\u001b[0m\n\u001b[0m\u001b[1;32m     10\u001b[0m     \u001b[0mprint\u001b[0m\u001b[0;34m(\u001b[0m\u001b[0mhero\u001b[0m\u001b[0;34m)\u001b[0m\u001b[0;34m\u001b[0m\u001b[0m\n\u001b[1;32m     11\u001b[0m     \u001b[0murl\u001b[0m \u001b[0;34m=\u001b[0m \u001b[0;34m'https://www.hotslogs.com/Sitewide/HeroDetails?Hero='\u001b[0m \u001b[0;34m+\u001b[0m \u001b[0mhero\u001b[0m\u001b[0;34m\u001b[0m\u001b[0m\n",
      "\u001b[0;31mNameError\u001b[0m: name 'df_winrate' is not defined"
     ]
    }
   ],
   "source": [
    "from selenium import webdriver\n",
    "from selenium.webdriver.common.keys import Keys\n",
    "\n",
    "# on ouvre la page internet du jeu 2048\n",
    "\n",
    "driver = webdriver.Chrome(path_to_web_driver)\n",
    "\n",
    "df_duos = None\n",
    "for hero in list(df_winrate.index):\n",
    "    print(hero)\n",
    "    url = 'https://www.hotslogs.com/Sitewide/HeroDetails?Hero=' + hero\n",
    "    table_soup = get_duo_table_soup(driver, url)\n",
    "    header, body = parse_hotslogs_table(table_soup)\n",
    "    header = ['Hero'] + header\n",
    "    body = [[hero] + row for row in body]\n",
    "    df = pd.DataFrame(data=body, columns=header)\n",
    "    df_duos = pd.concat([df_duos, df])\n",
    "driver.close()"
   ]
  },
  {
   "cell_type": "code",
   "execution_count": null,
   "metadata": {
    "collapsed": true
   },
   "outputs": [],
   "source": []
  }
 ],
 "metadata": {
  "kernelspec": {
   "display_name": "Python 3",
   "language": "python",
   "name": "python3"
  },
  "language_info": {
   "codemirror_mode": {
    "name": "ipython",
    "version": 3
   },
   "file_extension": ".py",
   "mimetype": "text/x-python",
   "name": "python",
   "nbconvert_exporter": "python",
   "pygments_lexer": "ipython3",
   "version": "3.5.2"
  }
 },
 "nbformat": 4,
 "nbformat_minor": 2
}
